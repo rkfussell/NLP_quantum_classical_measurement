{
 "cells": [
  {
   "cell_type": "markdown",
   "id": "1a92d596-7a52-4d1d-9414-b79f30020777",
   "metadata": {},
   "source": [
    "## Setting up the environment\n",
    "\n",
    "To install the packages necessary to run this release notebook, run the following in the terminal. You will need to first access this folder using the terminal. \n",
    "\n",
    "\n",
    "conda create -n plso python=3.9\n",
    "\n",
    "conda activate plso\n",
    "\n",
    "pip install -r requirements.txt\n",
    "\n",
    "\n",
    "You will need to run conda activate plso in the terminal before each time you launch this jupyter notebook. "
   ]
  },
  {
   "cell_type": "code",
   "execution_count": 1,
   "id": "3d573812-ab18-4a53-bedb-60465efe7534",
   "metadata": {},
   "outputs": [],
   "source": [
    "import os\n",
    "import torch\n",
    "import torch.nn as nn\n",
    "import torch.optim as optim\n",
    "from torch.utils.data import Dataset, DataLoader\n",
    "\n",
    "from transformers import BertTokenizer\n",
    "from torch.utils.data import WeightedRandomSampler \n",
    "import torch.nn as nn\n",
    "from transformers import BertModel\n",
    "from transformers import AdamW, get_linear_schedule_with_warmup\n",
    "\n",
    "import matplotlib.pyplot as plt\n",
    "import pandas as pd\n",
    "import numpy as np\n",
    "\n",
    "import torch.nn.functional as F\n",
    "import time\n",
    "\n",
    "import calibration_fns as cal\n",
    "\n",
    "from sklearn.metrics import accuracy_score, precision_score, recall_score, balanced_accuracy_score, f1_score, roc_auc_score"
   ]
  },
  {
   "cell_type": "code",
   "execution_count": 2,
   "id": "150a4523-0c8d-42e9-bd1b-73698bb55abf",
   "metadata": {},
   "outputs": [],
   "source": [
    "cwd = os.getcwd()\n",
    "data_folder = cwd + '/Prepared_data/'"
   ]
  },
  {
   "cell_type": "markdown",
   "id": "ccf6741c-f065-4ea5-b67f-81795682450a",
   "metadata": {},
   "source": [
    "### Step 1. Set up dataset for pytorch"
   ]
  },
  {
   "cell_type": "code",
   "execution_count": 3,
   "id": "0fafd7dc-5479-4451-abb6-679a44ee1c1b",
   "metadata": {},
   "outputs": [],
   "source": [
    "pd.set_option('display.max_colwidth', None)"
   ]
  },
  {
   "cell_type": "code",
   "execution_count": 4,
   "id": "22d7dc69-2054-4a16-8d22-8b6304fdd871",
   "metadata": {},
   "outputs": [],
   "source": [
    "data_sources = pd.read_excel(data_folder + 'data_sources.xlsx')\n",
    "data_more = pd.read_excel(data_folder + 'data_more.xlsx')\n",
    "data_better = pd.read_excel(data_folder + 'data_better.xlsx')\n",
    "data_classical = pd.read_excel(data_folder + 'data_classical.xlsx')\n",
    "data_quantum = pd.read_excel(data_folder + 'data_quantum.xlsx')"
   ]
  },
  {
   "cell_type": "code",
   "execution_count": 5,
   "id": "01dc8386-8618-4651-b89a-1fc9e8bddbee",
   "metadata": {},
   "outputs": [],
   "source": [
    "num_examples = pd.DataFrame({\"code\": [\"P\",\"L\",\"S\",\"O\"],\n",
    "              \"sources\": [data_sources[\"P\"].value_counts()[1], data_sources[\"L\"].value_counts()[1], data_sources[\"S\"].value_counts()[1], data_sources[\"O\"].value_counts()[1]],\n",
    "              \"more\": [data_more[\"P\"].value_counts()[1], data_more[\"L\"].value_counts()[1], data_more[\"S\"].value_counts()[1], data_more[\"O\"].value_counts()[1]],\n",
    "              \"better\": [data_better[\"P\"].value_counts()[1], data_better[\"L\"].value_counts()[1], data_better[\"S\"].value_counts()[1], data_better[\"O\"].value_counts()[1]],\n",
    "              \"classical\": [data_classical[\"P\"].value_counts()[1], data_classical[\"L\"].value_counts()[1], data_classical[\"S\"].value_counts()[1], data_classical[\"O\"].value_counts()[1]],\n",
    "              \"quantum\": [data_quantum[\"P\"].value_counts()[1], data_quantum[\"L\"].value_counts()[1], data_quantum[\"S\"].value_counts()[1], data_quantum[\"O\"].value_counts()[1]]\n",
    "             })\n",
    "num_examples['sum'] = num_examples[['sources', 'more', 'better','classical','quantum']].sum(axis=1)"
   ]
  },
  {
   "cell_type": "code",
   "execution_count": 6,
   "id": "549953ed-bcc9-4245-b412-fa8a5bea56d5",
   "metadata": {},
   "outputs": [
    {
     "data": {
      "text/html": [
       "<div>\n",
       "<style scoped>\n",
       "    .dataframe tbody tr th:only-of-type {\n",
       "        vertical-align: middle;\n",
       "    }\n",
       "\n",
       "    .dataframe tbody tr th {\n",
       "        vertical-align: top;\n",
       "    }\n",
       "\n",
       "    .dataframe thead th {\n",
       "        text-align: right;\n",
       "    }\n",
       "</style>\n",
       "<table border=\"1\" class=\"dataframe\">\n",
       "  <thead>\n",
       "    <tr style=\"text-align: right;\">\n",
       "      <th></th>\n",
       "      <th>code</th>\n",
       "      <th>sources</th>\n",
       "      <th>more</th>\n",
       "      <th>better</th>\n",
       "      <th>classical</th>\n",
       "      <th>quantum</th>\n",
       "      <th>sum</th>\n",
       "    </tr>\n",
       "  </thead>\n",
       "  <tbody>\n",
       "    <tr>\n",
       "      <th>0</th>\n",
       "      <td>P</td>\n",
       "      <td>160</td>\n",
       "      <td>23</td>\n",
       "      <td>44</td>\n",
       "      <td>4</td>\n",
       "      <td>108</td>\n",
       "      <td>339</td>\n",
       "    </tr>\n",
       "    <tr>\n",
       "      <th>1</th>\n",
       "      <td>L</td>\n",
       "      <td>2212</td>\n",
       "      <td>91</td>\n",
       "      <td>279</td>\n",
       "      <td>103</td>\n",
       "      <td>28</td>\n",
       "      <td>2713</td>\n",
       "    </tr>\n",
       "    <tr>\n",
       "      <th>2</th>\n",
       "      <td>S</td>\n",
       "      <td>117</td>\n",
       "      <td>255</td>\n",
       "      <td>36</td>\n",
       "      <td>4</td>\n",
       "      <td>2</td>\n",
       "      <td>414</td>\n",
       "    </tr>\n",
       "    <tr>\n",
       "      <th>3</th>\n",
       "      <td>O</td>\n",
       "      <td>410</td>\n",
       "      <td>43</td>\n",
       "      <td>52</td>\n",
       "      <td>58</td>\n",
       "      <td>53</td>\n",
       "      <td>616</td>\n",
       "    </tr>\n",
       "  </tbody>\n",
       "</table>\n",
       "</div>"
      ],
      "text/plain": [
       "  code  sources  more  better  classical  quantum   sum\n",
       "0    P      160    23      44          4      108   339\n",
       "1    L     2212    91     279        103       28  2713\n",
       "2    S      117   255      36          4        2   414\n",
       "3    O      410    43      52         58       53   616"
      ]
     },
     "execution_count": 6,
     "metadata": {},
     "output_type": "execute_result"
    }
   ],
   "source": [
    "num_examples\n",
    "\n",
    "#1. Validation and test sets must be obtained independently, come from the same distribution (training set may be different), that looks as much as possible like the data you expect to observe once deployed in production.\n",
    "#2. To get decent statistics, validation and test sets must have a few dozen examples of each class\n"
   ]
  },
  {
   "cell_type": "markdown",
   "id": "c2efc19a-71db-4e5f-8ed0-6e6f49543d61",
   "metadata": {},
   "source": [
    "What data do we need to reserve for validation and testing? What can we use for training?\n",
    "\n",
    "1. Validation and test sets must be obtained independently, come from the same distribution (training set may be different), that looks as much as possible like the data you expect to observe once deployed in production.\n",
    "2. To get decent statistics, validation and test sets must have a few dozen examples of each class\n",
    "\n",
    "\n",
    "To keep the distribution for validation and test sets as close as possible to the data we expect to observe in production, we will take clean percentages of the full data set when splitting data between training and validation and test. \n",
    "\n",
    "Can combine more/better and classical/quantum for validation and testing, out of necessity and because the same coding scheme is applied. \n",
    "\n",
    "\n",
    "There is no way we can validate a model to detect S in classical/quantum because it simply does not happen frequently enough. \n",
    "\n",
    "For sources, if we want to be able to validate for P and L we need at least 20% of the data. This will leave us with about 32 examples of P and 24 examples of S. So we will put 60% of the sources data into training.\n",
    "\n",
    "For more/better, if we want semi-decent statistics on P and O we need at least 30%. This will leave us with about 20 examples of P and about 28 examples of O. So we will put 40% of the more better data into training.\n",
    "\n",
    "For generic (classical/quantum), we need at least 20% of the data. That will give us about 22 examples for P, 26 examples for L, and 22 examples for O. S does not happen frequently enough and cannot be tested. "
   ]
  },
  {
   "cell_type": "code",
   "execution_count": 7,
   "id": "8547545b-129c-429e-b264-f2a7041ea87e",
   "metadata": {},
   "outputs": [],
   "source": [
    "data_sources[\"Question\"] = \"Sources\"\n",
    "data_more[\"Question\"] = \"More\"\n",
    "data_better[\"Question\"] = \"Better\"\n",
    "data_classical[\"Question\"] = \"Classical\"\n",
    "data_quantum[\"Question\"] = \"Quantum\"\n",
    "\n",
    "#shuffle data\n",
    "data_sources = data_sources.sample(frac=1).reset_index(drop=True)\n",
    "data_more = data_more.sample(frac=1).reset_index(drop=True)\n",
    "data_better = data_better.sample(frac=1).reset_index(drop=True)\n",
    "data_classical = data_classical.sample(frac=1).reset_index(drop=True)\n",
    "data_quantum = data_quantum.sample(frac=1).reset_index(drop=True)\n",
    "\n",
    "#split data by question\n",
    "def split_data(dat, test_percent = 0.10, val_percent = 0.10, train_percent = 0.80):\n",
    "    test_size = int(test_percent*len(dat))\n",
    "    val_size = int(val_percent*len(dat))\n",
    "    train_size = int(train_percent*len(dat))\n",
    "    \n",
    "    test_data = dat[:test_size]\n",
    "    val_data = dat[test_size:test_size + val_size]\n",
    "    train_data = dat[test_size + val_size:]\n",
    "\n",
    "    return test_data, val_data, train_data\n",
    "\n",
    "(test_sources, val_sources, train_sources) = split_data(data_sources, test_percent = 0.2, val_percent = 0.2, train_percent = 0.6)\n",
    "(test_more, val_more, train_more) = split_data(data_more, test_percent = 0.3, val_percent = 0.3, train_percent = 0.4)\n",
    "(test_better, val_better, train_better) = split_data(data_better, test_percent = 0.3, val_percent = 0.3, train_percent = 0.4)\n",
    "(test_classical, val_classical, train_classical) = split_data(data_classical, test_percent = 0.2, val_percent = 0.2, train_percent = 0.6)\n",
    "(test_quantum, val_quantum, train_quantum) = split_data(data_quantum, test_percent = 0.2, val_percent = 0.2, train_percent = 0.6)\n",
    "\n",
    "test_data_sources = test_sources[['ResponseId', 'Experiment', 'Question','Input', 'P', 'L', 'S', 'O']]\n",
    "test_data_morebetter = pd.concat([test_more, test_better])[['ResponseId', 'Experiment', 'Question','Input', 'P', 'L', 'S', 'O']]\n",
    "test_data_generic = pd.concat([test_classical, test_quantum])[['ResponseId', 'Question','Input', 'P', 'L', 'S', 'O']]\n",
    "\n",
    "val_data_sources = val_sources[['ResponseId', 'Experiment', 'Question','Input', 'P', 'L', 'S', 'O']]\n",
    "val_data_morebetter = pd.concat([val_more, val_better])[['ResponseId', 'Experiment', 'Question','Input', 'P', 'L', 'S', 'O']]\n",
    "val_data_generic = pd.concat([val_classical, val_quantum])[['ResponseId', 'Question','Input', 'P', 'L', 'S', 'O']]\n",
    "\n",
    "train_data = pd.concat([train_sources, train_more, train_better, train_classical, train_quantum])[['ResponseId', 'Experiment', 'Question','Input', 'P', 'L', 'S', 'O']]"
   ]
  },
  {
   "cell_type": "code",
   "execution_count": 8,
   "id": "97e5c395-9576-41b0-9538-e8ea688abafd",
   "metadata": {},
   "outputs": [
    {
     "name": "stdout",
     "output_type": "stream",
     "text": [
      "Test sets\n",
      "Sources\n",
      "P     28\n",
      "L    441\n",
      "S     24\n",
      "O     86\n",
      "dtype: int64\n",
      "More Better\n",
      "P     18\n",
      "L    116\n",
      "S     80\n",
      "O     27\n",
      "dtype: int64\n",
      "Generic\n",
      "P    25\n",
      "L    28\n",
      "S     1\n",
      "O    19\n",
      "dtype: int64\n",
      "\n",
      "Validation sets\n",
      "Sources\n",
      "P     32\n",
      "L    442\n",
      "S     26\n",
      "O     79\n",
      "dtype: int64\n",
      "More Better\n",
      "P     24\n",
      "L    105\n",
      "S     86\n",
      "O     30\n",
      "dtype: int64\n",
      "Generic\n",
      "P    17\n",
      "L    24\n",
      "S     1\n",
      "O    25\n",
      "dtype: int64\n"
     ]
    }
   ],
   "source": [
    "print(\"Test sets\")\n",
    "print(\"Sources\")\n",
    "print(test_data_sources[[\"P\",\"L\",\"S\",\"O\"]].sum())\n",
    "print(\"More Better\")\n",
    "print(test_data_morebetter[[\"P\",\"L\",\"S\",\"O\"]].sum())\n",
    "print(\"Generic\")\n",
    "print(test_data_generic[[\"P\",\"L\",\"S\",\"O\"]].sum())\n",
    "\n",
    "print(\"\\nValidation sets\")\n",
    "print(\"Sources\")\n",
    "print(val_data_sources[[\"P\",\"L\",\"S\",\"O\"]].sum())\n",
    "print(\"More Better\")\n",
    "print(val_data_morebetter[[\"P\",\"L\",\"S\",\"O\"]].sum())\n",
    "print(\"Generic\")\n",
    "print(val_data_generic[[\"P\",\"L\",\"S\",\"O\"]].sum())\n"
   ]
  },
  {
   "cell_type": "code",
   "execution_count": 9,
   "id": "ff5196e4-7b31-49f3-942f-f59e00ef5196",
   "metadata": {},
   "outputs": [
    {
     "name": "stdout",
     "output_type": "stream",
     "text": [
      "2229\n",
      "579\n",
      "233\n",
      "57\n",
      "579\n",
      "233\n",
      "57\n"
     ]
    }
   ],
   "source": [
    "print(len(train_data))\n",
    "print(len(val_data_sources))\n",
    "print(len(val_data_morebetter))\n",
    "print(len(val_data_generic))\n",
    "print(len(test_data_sources))\n",
    "print(len(test_data_morebetter))\n",
    "print(len(test_data_generic))"
   ]
  },
  {
   "cell_type": "code",
   "execution_count": 10,
   "id": "aa699325-f222-4dda-ab6c-397cd3223844",
   "metadata": {},
   "outputs": [],
   "source": [
    "def get_max_len(tokenizer, train):\n",
    "    all_sent = np.array(train.Input.values)\n",
    "    # Encode data\n",
    "    encoded_sentences = [tokenizer.encode(sent, add_special_tokens=True) for sent in all_sent]\n",
    "    # Find the maximum length\n",
    "    max_len = max([len(sent) for sent in encoded_sentences])\n",
    "    return max_len"
   ]
  },
  {
   "cell_type": "code",
   "execution_count": 11,
   "id": "6625551e-1c27-4e77-bce0-bcd33eb97b2a",
   "metadata": {},
   "outputs": [],
   "source": [
    "tokenizer = BertTokenizer.from_pretrained('bert-base-uncased', do_lower_case=True)\n",
    "MAX_LEN = get_max_len(tokenizer, train_data) "
   ]
  },
  {
   "cell_type": "code",
   "execution_count": 12,
   "id": "2fd33fdc-9016-42a9-be52-3b5bccb01d57",
   "metadata": {},
   "outputs": [
    {
     "name": "stdout",
     "output_type": "stream",
     "text": [
      "113\n"
     ]
    }
   ],
   "source": [
    "print(MAX_LEN)"
   ]
  },
  {
   "cell_type": "code",
   "execution_count": 13,
   "id": "38cc0fb4-bce8-4c53-ab10-ead576e5de51",
   "metadata": {},
   "outputs": [],
   "source": [
    "def text_preprocessing_simple(text):\n",
    "    try:\n",
    "        text = re.sub(r'\\s+', ' ', text).strip()\n",
    "    except:\n",
    "        pass\n",
    "    return text"
   ]
  },
  {
   "cell_type": "code",
   "execution_count": 14,
   "id": "427f03e9-41da-4bac-b5ad-9fe574e7b21a",
   "metadata": {},
   "outputs": [],
   "source": [
    "def preprocessing_for_bert(data, tokenizer, max_len):\n",
    "    \"\"\"Perform required preprocessing steps for pretrained BERT.\n",
    "    @param    data (np.array): Array of texts to be processed.\n",
    "    @return   input_ids (torch.Tensor): Tensor of token ids to be fed to a model.\n",
    "    @return   attention_masks (torch.Tensor): Tensor of indices specifying which\n",
    "                  tokens should be attended to by the model.\n",
    "    \"\"\"\n",
    "    # Create empty lists to store outputs\n",
    "    input_ids = []\n",
    "    attention_masks = []\n",
    "\n",
    "    # For every sentence...\n",
    "    for sent in data:\n",
    "        # `encode_plus` will:\n",
    "        #    (1) Tokenize the sentence\n",
    "        #    (2) Add the `[CLS]` and `[SEP]` token to the start and end\n",
    "        #    (3) Truncate/Pad sentence to max length\n",
    "        #    (4) Map tokens to their IDs\n",
    "        #    (5) Create attention mask\n",
    "        #    (6) Return a dictionary of outputs\n",
    "        encoded_sent = tokenizer.encode_plus(\n",
    "            text=text_preprocessing_simple(str(sent)),  # Preprocess sentence\n",
    "            add_special_tokens=True,        # Add `[CLS]` and `[SEP]`\n",
    "            max_length=max_len,                  # Max length to truncate/pad\n",
    "            padding='max_length',         # Pad sentence to max length\n",
    "            #return_tensors='pt',           # Return PyTorch tensor\n",
    "            return_attention_mask=True,      # Return attention mask\n",
    "            truncation = True)\n",
    "        \n",
    "        # Add the outputs to the lists\n",
    "        input_ids.append(encoded_sent.get('input_ids'))\n",
    "        attention_masks.append(encoded_sent.get('attention_mask'))\n",
    "\n",
    "    # Convert lists to tensors\n",
    "    input_ids = torch.tensor(input_ids)\n",
    "    attention_masks = torch.tensor(attention_masks)\n",
    "\n",
    "    return input_ids, attention_masks"
   ]
  },
  {
   "cell_type": "code",
   "execution_count": 15,
   "id": "4e2c059d-e65e-45c0-9c04-81491b51c931",
   "metadata": {},
   "outputs": [],
   "source": [
    "class Dataset(Dataset):\n",
    "    def __init__(self, df, tokenizer, max_len, code):\n",
    "        self.data, self.masks = preprocessing_for_bert(df[\"Input\"], tokenizer, MAX_LEN)\n",
    "        self.texts = df[\"Input\"].reset_index(drop=True)\n",
    "        self.labels = torch.tensor(list(df[code]), dtype = torch.long)\n",
    "    def __len__(self):\n",
    "        return len(self.data)\n",
    "    def __getitem__(self, idx):\n",
    "        sample = self.data[idx]\n",
    "        mask = self.masks[idx]\n",
    "        text = self.texts[idx]\n",
    "        label = self.labels[idx]\n",
    "        return sample, mask, text, label"
   ]
  },
  {
   "cell_type": "code",
   "execution_count": 16,
   "id": "52873860-b0ca-421c-b025-6628d68f923f",
   "metadata": {},
   "outputs": [],
   "source": [
    "train_dataset_P = Dataset(train_data, tokenizer, MAX_LEN, \"P\")\n",
    "val_dataset_sources_P = Dataset(val_data_sources, tokenizer, MAX_LEN,\"P\")\n",
    "val_dataset_morebetter_P = Dataset(val_data_morebetter, tokenizer, MAX_LEN,\"P\")\n",
    "val_dataset_generic_P = Dataset(val_data_generic, tokenizer, MAX_LEN,\"P\")\n",
    "test_dataset_sources_P = Dataset(test_data_sources, tokenizer, MAX_LEN,\"P\")\n",
    "test_dataset_morebetter_P = Dataset(test_data_morebetter, tokenizer, MAX_LEN,\"P\")\n",
    "test_dataset_generic_P = Dataset(test_data_generic, tokenizer, MAX_LEN,\"P\")\n",
    "\n",
    "train_dataset_L = Dataset(train_data, tokenizer, MAX_LEN, \"L\")\n",
    "val_dataset_sources_L = Dataset(val_data_sources, tokenizer, MAX_LEN,\"L\")\n",
    "val_dataset_morebetter_L = Dataset(val_data_morebetter, tokenizer, MAX_LEN,\"L\")\n",
    "val_dataset_generic_L = Dataset(val_data_generic, tokenizer, MAX_LEN,\"L\")\n",
    "test_dataset_sources_L = Dataset(test_data_sources, tokenizer, MAX_LEN,\"L\")\n",
    "test_dataset_morebetter_L = Dataset(test_data_morebetter, tokenizer, MAX_LEN,\"L\")\n",
    "test_dataset_generic_L = Dataset(test_data_generic, tokenizer, MAX_LEN,\"L\")\n",
    "\n",
    "train_dataset_S = Dataset(train_data, tokenizer, MAX_LEN, \"S\")\n",
    "val_dataset_sources_S = Dataset(val_data_sources, tokenizer, MAX_LEN,\"S\")\n",
    "val_dataset_morebetter_S = Dataset(val_data_morebetter, tokenizer, MAX_LEN,\"S\")\n",
    "val_dataset_generic_S = Dataset(val_data_generic, tokenizer, MAX_LEN,\"S\")\n",
    "test_dataset_sources_S = Dataset(test_data_sources, tokenizer, MAX_LEN,\"S\")\n",
    "test_dataset_morebetter_S = Dataset(test_data_morebetter, tokenizer, MAX_LEN,\"S\")\n",
    "test_dataset_generic_S = Dataset(test_data_generic, tokenizer, MAX_LEN,\"S\")\n",
    "\n",
    "train_dataset_O = Dataset(train_data, tokenizer, MAX_LEN, \"O\")\n",
    "val_dataset_sources_O = Dataset(val_data_sources, tokenizer, MAX_LEN,\"O\")\n",
    "val_dataset_morebetter_O = Dataset(val_data_morebetter, tokenizer, MAX_LEN,\"O\")\n",
    "val_dataset_generic_O = Dataset(val_data_generic, tokenizer, MAX_LEN,\"O\")\n",
    "test_dataset_sources_O = Dataset(test_data_sources, tokenizer, MAX_LEN,\"O\")\n",
    "test_dataset_morebetter_O = Dataset(test_data_morebetter, tokenizer, MAX_LEN,\"O\")\n",
    "test_dataset_generic_O = Dataset(test_data_generic, tokenizer, MAX_LEN,\"O\")"
   ]
  },
  {
   "cell_type": "code",
   "execution_count": 17,
   "id": "c7c2e009-d995-4d92-a17a-64d2ba99b95f",
   "metadata": {},
   "outputs": [
    {
     "data": {
      "text/plain": [
       "2229"
      ]
     },
     "execution_count": 17,
     "metadata": {},
     "output_type": "execute_result"
    }
   ],
   "source": [
    "len(train_dataset_P)"
   ]
  },
  {
   "cell_type": "code",
   "execution_count": 18,
   "id": "934801b2-4bfb-4548-b278-2e02ad48caa0",
   "metadata": {},
   "outputs": [
    {
     "data": {
      "text/plain": [
       "(tensor([  101,  2493,  2089,  5245,  1996,  3608,  2830,  2091,  1996, 13276,\n",
       "           102,     0,     0,     0,     0,     0,     0,     0,     0,     0,\n",
       "             0,     0,     0,     0,     0,     0,     0,     0,     0,     0,\n",
       "             0,     0,     0,     0,     0,     0,     0,     0,     0,     0,\n",
       "             0,     0,     0,     0,     0,     0,     0,     0,     0,     0,\n",
       "             0,     0,     0,     0,     0,     0,     0,     0,     0,     0,\n",
       "             0,     0,     0,     0,     0,     0,     0,     0,     0,     0,\n",
       "             0,     0,     0,     0,     0,     0,     0,     0,     0,     0,\n",
       "             0,     0,     0,     0,     0,     0,     0,     0,     0,     0,\n",
       "             0,     0,     0,     0,     0,     0,     0,     0,     0,     0,\n",
       "             0,     0,     0,     0,     0,     0,     0,     0,     0,     0,\n",
       "             0,     0,     0]),\n",
       " tensor([1, 1, 1, 1, 1, 1, 1, 1, 1, 1, 1, 0, 0, 0, 0, 0, 0, 0, 0, 0, 0, 0, 0, 0,\n",
       "         0, 0, 0, 0, 0, 0, 0, 0, 0, 0, 0, 0, 0, 0, 0, 0, 0, 0, 0, 0, 0, 0, 0, 0,\n",
       "         0, 0, 0, 0, 0, 0, 0, 0, 0, 0, 0, 0, 0, 0, 0, 0, 0, 0, 0, 0, 0, 0, 0, 0,\n",
       "         0, 0, 0, 0, 0, 0, 0, 0, 0, 0, 0, 0, 0, 0, 0, 0, 0, 0, 0, 0, 0, 0, 0, 0,\n",
       "         0, 0, 0, 0, 0, 0, 0, 0, 0, 0, 0, 0, 0, 0, 0, 0, 0]),\n",
       " 'Students may push the ball forward down the ramp',\n",
       " tensor(0))"
      ]
     },
     "execution_count": 18,
     "metadata": {},
     "output_type": "execute_result"
    }
   ],
   "source": [
    "train_dataset_P[2]"
   ]
  },
  {
   "cell_type": "code",
   "execution_count": 19,
   "id": "ee235eaf-a2e3-4887-a275-cf043859b7ca",
   "metadata": {},
   "outputs": [],
   "source": [
    "for data, mask, text, label in train_dataset_P:\n",
    "    break"
   ]
  },
  {
   "cell_type": "code",
   "execution_count": 20,
   "id": "b21649a3-1978-4e72-b88c-db8def5876f2",
   "metadata": {},
   "outputs": [],
   "source": [
    "class_counts_P = train_data.P.value_counts()\n",
    "class_counts_L = train_data.L.value_counts()\n",
    "class_counts_S = train_data.S.value_counts()\n",
    "class_counts_O = train_data.O.value_counts()"
   ]
  },
  {
   "cell_type": "code",
   "execution_count": 21,
   "id": "62809b40-ffb4-4df4-9d1f-9910aae7ba16",
   "metadata": {},
   "outputs": [],
   "source": [
    "#sample_weights = [1.0 / class_counts[i] for i in train_data.code.values]\n",
    "class_weights_P = 1.0 / class_counts_P\n",
    "class_weights_L = 1.0 / class_counts_L\n",
    "class_weights_S = 1.0 / class_counts_S\n",
    "class_weights_O = 1.0 / class_counts_O\n",
    "#class_weights[1] = class_weights[1] / 4 # underweight \"other\"\n",
    "sample_weights_P = [class_weights_P[i] for i in train_data.P.values]\n",
    "sample_weights_L = [class_weights_L[i] for i in train_data.L.values]\n",
    "sample_weights_S = [class_weights_S[i] for i in train_data.S.values]\n",
    "sample_weights_O = [class_weights_O[i] for i in train_data.O.values]\n",
    "class_weights_P = torch.tensor(class_weights_P, dtype=torch.float)\n",
    "class_weights_L = torch.tensor(class_weights_L, dtype=torch.float)\n",
    "class_weights_S = torch.tensor(class_weights_S, dtype=torch.float)\n",
    "class_weights_O = torch.tensor(class_weights_O, dtype=torch.float)\n",
    "\n",
    "train_sampler_P = WeightedRandomSampler(sample_weights_P,len(train_dataset_P), replacement=True)\n",
    "train_sampler_L = WeightedRandomSampler(sample_weights_L,len(train_dataset_L), replacement=True)\n",
    "train_sampler_S = WeightedRandomSampler(sample_weights_S,len(train_dataset_S), replacement=True)\n",
    "train_sampler_O = WeightedRandomSampler(sample_weights_O,len(train_dataset_O), replacement=True)\n",
    "\n",
    "train_dataloader_P = DataLoader(train_dataset_P, batch_size = 16, sampler = train_sampler_P)\n",
    "val_dataloader_sources_P = DataLoader(val_dataset_sources_P, batch_size = 16) \n",
    "val_dataloader_morebetter_P = DataLoader(val_dataset_morebetter_P, batch_size = 16) \n",
    "val_dataloader_generic_P = DataLoader(val_dataset_generic_P, batch_size = 16) \n",
    "test_dataloader_sources_P = DataLoader(test_dataset_sources_P, batch_size = 16) \n",
    "test_dataloader_morebetter_P = DataLoader(test_dataset_morebetter_P, batch_size = 16) \n",
    "test_dataloader_generic_P = DataLoader(test_dataset_generic_P, batch_size = 16) \n",
    "\n",
    "train_dataloader_L = DataLoader(train_dataset_L, batch_size = 16, sampler = train_sampler_L)\n",
    "val_dataloader_sources_L = DataLoader(val_dataset_sources_L, batch_size = 16) \n",
    "val_dataloader_morebetter_L = DataLoader(val_dataset_morebetter_L, batch_size = 16) \n",
    "val_dataloader_generic_L = DataLoader(val_dataset_generic_L, batch_size = 16) \n",
    "test_dataloader_sources_L = DataLoader(test_dataset_sources_L, batch_size = 16) \n",
    "test_dataloader_morebetter_L = DataLoader(test_dataset_morebetter_L, batch_size = 16) \n",
    "test_dataloader_generic_L = DataLoader(test_dataset_generic_L, batch_size = 16) \n",
    "\n",
    "train_dataloader_S = DataLoader(train_dataset_S, batch_size = 16, sampler = train_sampler_S)\n",
    "val_dataloader_sources_S = DataLoader(val_dataset_sources_S, batch_size = 16) \n",
    "val_dataloader_morebetter_S = DataLoader(val_dataset_morebetter_S, batch_size = 16) \n",
    "val_dataloader_generic_S = DataLoader(val_dataset_generic_S, batch_size = 16) \n",
    "test_dataloader_sources_S = DataLoader(test_dataset_sources_S, batch_size = 16) \n",
    "test_dataloader_morebetter_S = DataLoader(test_dataset_morebetter_S, batch_size = 16)\n",
    "test_dataloader_generic_S = DataLoader(test_dataset_generic_S, batch_size = 16)\n",
    "\n",
    "train_dataloader_O = DataLoader(train_dataset_O, batch_size = 16, sampler = train_sampler_O)\n",
    "val_dataloader_sources_O = DataLoader(val_dataset_sources_O, batch_size = 16) \n",
    "val_dataloader_morebetter_O = DataLoader(val_dataset_morebetter_O, batch_size = 16) \n",
    "val_dataloader_generic_O = DataLoader(val_dataset_generic_O, batch_size = 16) \n",
    "test_dataloader_sources_O = DataLoader(test_dataset_sources_O, batch_size = 16) \n",
    "test_dataloader_morebetter_O = DataLoader(test_dataset_morebetter_O, batch_size = 16) \n",
    "test_dataloader_generic_O = DataLoader(test_dataset_generic_O, batch_size = 16) "
   ]
  },
  {
   "cell_type": "code",
   "execution_count": 22,
   "id": "afcffdc4-1afa-40b2-ac93-6b6f970a35db",
   "metadata": {},
   "outputs": [],
   "source": [
    "for sents, masks, texts, labels in train_dataloader_P:\n",
    "    break"
   ]
  },
  {
   "cell_type": "code",
   "execution_count": 23,
   "id": "e0eac15d-c8ec-44ca-ae97-7c72d79c1880",
   "metadata": {},
   "outputs": [
    {
     "name": "stdout",
     "output_type": "stream",
     "text": [
      "torch.Size([16, 113])\n",
      "torch.Size([16, 113])\n",
      "torch.Size([16])\n"
     ]
    }
   ],
   "source": [
    "print(sents.shape)\n",
    "print(masks.shape)\n",
    "print(labels.shape)"
   ]
  },
  {
   "cell_type": "markdown",
   "id": "797f8d52-de3b-40f2-90b2-b33b9b288d3b",
   "metadata": {},
   "source": [
    "### Step 2. Set up Pytorch Model"
   ]
  },
  {
   "cell_type": "code",
   "execution_count": 24,
   "id": "c7d37605-a89f-4772-b3a2-5c41def5305b",
   "metadata": {},
   "outputs": [],
   "source": [
    "class Classifier(nn.Module):\n",
    "    def __init__(self, num_classes=2, freeze_bert = False):\n",
    "        #Where we define all the parts of the model\n",
    "        super(Classifier, self).__init__()  # initialize object with everything from the parent class\n",
    "        # Specify hidden size of BERT, hidden size of our classifier, and number of labels\n",
    "        D_in, H, D_out = 768, 200, num_classes\n",
    "        # Instantiate BERT model\n",
    "        self.bert = BertModel.from_pretrained('bert-base-uncased')\n",
    "        # Instantiate an one-layer feed-forward classifier\n",
    "        self.classifier = nn.Sequential(\n",
    "            nn.Linear(D_in, H),\n",
    "            nn.ReLU(),\n",
    "            #nn.Dropout(0.5),\n",
    "            nn.Linear(H, D_out)\n",
    "        )\n",
    "        # Freeze the BERT model\n",
    "        if freeze_bert:\n",
    "            for param in self.bert.parameters():\n",
    "                param.requires_grad = False\n",
    "    def forward(self, input_ids, attention_mask):\n",
    "        # Connect these parts and return the output\n",
    "        # Feed input to BERT\n",
    "        outputs = self.bert(input_ids=input_ids,\n",
    "                            attention_mask=attention_mask)\n",
    "        # Extract the last hidden state of the token `[CLS]` for classification task\n",
    "        last_hidden_state_cls = outputs[0][:, 0, :]\n",
    "        # Feed input to classifier to compute logits\n",
    "        logits = self.classifier(last_hidden_state_cls)\n",
    "        return logits"
   ]
  },
  {
   "cell_type": "markdown",
   "id": "0d421d74-93c8-469c-adba-0b9891586db4",
   "metadata": {},
   "source": [
    "Test that an example model takes inputs"
   ]
  },
  {
   "cell_type": "code",
   "execution_count": 25,
   "id": "20193fc5-ac40-4f8d-a2e5-4e770a789af4",
   "metadata": {},
   "outputs": [
    {
     "name": "stdout",
     "output_type": "stream",
     "text": [
      "Classifier(\n",
      "  (bert): BertModel(\n",
      "    (embeddings): BertEmbeddings(\n",
      "      (word_embeddings): Embedding(30522, 768, padding_idx=0)\n",
      "      (position_embeddings): Embedding(512, 768)\n",
      "      (token_type_embeddings): Embedding(2, 768)\n",
      "      (LayerNorm): LayerNorm((768,), eps=1e-12, elementwise_affine=True)\n",
      "      (dropout): Dropout(p=0.1, inplace=False)\n",
      "    )\n",
      "    (encoder): BertEncoder(\n",
      "      (layer): ModuleList(\n",
      "        (0-11): 12 x BertLayer(\n",
      "          (attention): BertAttention(\n",
      "            (self): BertSdpaSelfAttention(\n",
      "              (query): Linear(in_features=768, out_features=768, bias=True)\n",
      "              (key): Linear(in_features=768, out_features=768, bias=True)\n",
      "              (value): Linear(in_features=768, out_features=768, bias=True)\n",
      "              (dropout): Dropout(p=0.1, inplace=False)\n",
      "            )\n",
      "            (output): BertSelfOutput(\n",
      "              (dense): Linear(in_features=768, out_features=768, bias=True)\n",
      "              (LayerNorm): LayerNorm((768,), eps=1e-12, elementwise_affine=True)\n",
      "              (dropout): Dropout(p=0.1, inplace=False)\n",
      "            )\n",
      "          )\n",
      "          (intermediate): BertIntermediate(\n",
      "            (dense): Linear(in_features=768, out_features=3072, bias=True)\n",
      "            (intermediate_act_fn): GELUActivation()\n",
      "          )\n",
      "          (output): BertOutput(\n",
      "            (dense): Linear(in_features=3072, out_features=768, bias=True)\n",
      "            (LayerNorm): LayerNorm((768,), eps=1e-12, elementwise_affine=True)\n",
      "            (dropout): Dropout(p=0.1, inplace=False)\n",
      "          )\n",
      "        )\n",
      "      )\n",
      "    )\n",
      "    (pooler): BertPooler(\n",
      "      (dense): Linear(in_features=768, out_features=768, bias=True)\n",
      "      (activation): Tanh()\n",
      "    )\n",
      "  )\n",
      "  (classifier): Sequential(\n",
      "    (0): Linear(in_features=768, out_features=200, bias=True)\n",
      "    (1): ReLU()\n",
      "    (2): Linear(in_features=200, out_features=2, bias=True)\n",
      "  )\n",
      ")\n"
     ]
    }
   ],
   "source": [
    "model_P = Classifier(num_classes = 2)\n",
    "print(model_P)"
   ]
  },
  {
   "cell_type": "code",
   "execution_count": 26,
   "id": "3155d3b5-bd08-456b-ae7d-41eba04b163e",
   "metadata": {},
   "outputs": [],
   "source": [
    "example_out = model_P(sents, masks)"
   ]
  },
  {
   "cell_type": "code",
   "execution_count": 27,
   "id": "4ca746a4-70e1-46b3-a69b-77a9f2ecad46",
   "metadata": {},
   "outputs": [
    {
     "data": {
      "text/plain": [
       "torch.Size([16, 2])"
      ]
     },
     "execution_count": 27,
     "metadata": {},
     "output_type": "execute_result"
    }
   ],
   "source": [
    "example_out.shape #batch size, num_classes"
   ]
  },
  {
   "cell_type": "code",
   "execution_count": 28,
   "id": "61f0ed0f-3265-4ac8-a3e4-1e174268cb07",
   "metadata": {},
   "outputs": [
    {
     "data": {
      "text/plain": [
       "tensor([[ 0.2564,  0.0800],\n",
       "        [ 0.2855,  0.1307],\n",
       "        [ 0.1811,  0.0334],\n",
       "        [ 0.1863,  0.0271],\n",
       "        [ 0.2661,  0.0516],\n",
       "        [ 0.1652,  0.1735],\n",
       "        [ 0.1766,  0.0649],\n",
       "        [ 0.2048,  0.0929],\n",
       "        [ 0.2699,  0.0588],\n",
       "        [ 0.1652,  0.1735],\n",
       "        [ 0.1275, -0.0216],\n",
       "        [ 0.1945, -0.0311],\n",
       "        [ 0.1729,  0.0884],\n",
       "        [ 0.3597,  0.1196],\n",
       "        [ 0.2260, -0.0492],\n",
       "        [ 0.2080,  0.0035]], grad_fn=<AddmmBackward0>)"
      ]
     },
     "execution_count": 28,
     "metadata": {},
     "output_type": "execute_result"
    }
   ],
   "source": [
    "example_out"
   ]
  },
  {
   "cell_type": "markdown",
   "id": "d342bab5-6e8a-4186-979b-d96fa783b2a1",
   "metadata": {},
   "source": [
    "### Step 3. The training loop"
   ]
  },
  {
   "cell_type": "code",
   "execution_count": 29,
   "id": "acef84e5-c648-4254-8ce7-4d42aa40b94e",
   "metadata": {},
   "outputs": [
    {
     "name": "stdout",
     "output_type": "stream",
     "text": [
      "cuda:0\n"
     ]
    }
   ],
   "source": [
    "device = torch.device(\"cuda:0\" if torch.cuda.is_available()  else \"cpu\")\n",
    "print(device)"
   ]
  },
  {
   "cell_type": "code",
   "execution_count": 30,
   "id": "7f38979e-ae58-46de-b089-892f0a504937",
   "metadata": {},
   "outputs": [],
   "source": [
    "# Loss function\n",
    "criterion = nn.CrossEntropyLoss(weight=class_weights_P)"
   ]
  },
  {
   "cell_type": "code",
   "execution_count": 31,
   "id": "4d69f394-a0ef-42de-b78a-83354263bc70",
   "metadata": {},
   "outputs": [
    {
     "data": {
      "text/plain": [
       "tensor(0.7697, grad_fn=<NllLossBackward0>)"
      ]
     },
     "execution_count": 31,
     "metadata": {},
     "output_type": "execute_result"
    }
   ],
   "source": [
    "criterion(example_out, labels) # check that the loss function calculates. It won't be any good yet because we haven't done training"
   ]
  },
  {
   "cell_type": "code",
   "execution_count": 32,
   "id": "bd370686-4cd9-4771-92f0-fe3e0d4eefaa",
   "metadata": {},
   "outputs": [
    {
     "data": {
      "text/plain": [
       "tensor([0, 1, 1, 1, 0, 0, 1, 0, 1, 0, 1, 0, 0, 1, 0, 1])"
      ]
     },
     "execution_count": 32,
     "metadata": {},
     "output_type": "execute_result"
    }
   ],
   "source": [
    "labels"
   ]
  },
  {
   "cell_type": "code",
   "execution_count": 33,
   "id": "017b8966-ebf2-4fd6-9e3e-040c22cf49da",
   "metadata": {},
   "outputs": [],
   "source": [
    "#for param in model_P.bert.pooler.parameters():\n",
    "#    param.requires_grad = True\n",
    "\n",
    "#for module in model_P.modules():\n",
    "#    if isinstance(module, torch.nn.LayerNorm):\n",
    "#        module.eval()  # Set LayerNorm to eval mode"
   ]
  },
  {
   "cell_type": "code",
   "execution_count": 34,
   "id": "1e2b3dde-1454-4225-a05f-83127522108a",
   "metadata": {},
   "outputs": [],
   "source": [
    "def training_loop(train_dataloader, val_dataloader1, val_dataloader2, val_dataloader3, class_weights, num_epochs = 5, lr = 1e-5, weight_decay = 1e-5):\n",
    "    \n",
    "    num_epochs = 7\n",
    "    train_losses, val_losses1, val_losses2, val_losses3 = [], [], [], []\n",
    "    \n",
    "    model = Classifier(num_classes=2)\n",
    "    model.to(device)\n",
    "    \n",
    "    total_steps = len(train_dataloader) * num_epochs # Total number of training steps\n",
    "    \n",
    "    optimizer = optim.Adam(model.parameters(), lr = lr, weight_decay = weight_decay)\n",
    "    \n",
    "    scheduler = get_linear_schedule_with_warmup(optimizer,\n",
    "                                                    num_warmup_steps=0, # Default value\n",
    "                                                    num_training_steps=total_steps)\n",
    "    \n",
    "    loss_fn = nn.CrossEntropyLoss(weight=class_weights.to(device))\n",
    "    \n",
    "    \n",
    "    for epoch in range(num_epochs):\n",
    "        print(f\"{'Epoch':^7} | {'Batch':^7} | {'Train Loss':^12} | {'Val Loss':^10} | {'Val Acc':^9} | {'Elapsed':^9}\")\n",
    "        print(\"-\"*70)\n",
    "        running_loss = 0.0\n",
    "        t0_epoch, t0_batch = time.time(), time.time()\n",
    "        total_loss, batch_loss, batch_counts = 0, 0, 0 # Reset tracking variables at the beginning of each epoch\n",
    "        model.train() # Set the model to train\n",
    "        for batch_idx, (sents, masks, texts, labels) in enumerate(train_dataloader): \n",
    "            batch_counts +=1\n",
    "            sents, masks, labels = sents.to(device), masks.to(device), labels.to(device)\n",
    "            optimizer.zero_grad() # set our optimizer to zero_grad\n",
    "            outputs = model(sents, masks) # get our outputs by calling the forward method on the images\n",
    "            loss = loss_fn(outputs, labels)\n",
    "            loss.backward() # this is where we do backpropagation on the model to update the model weights\n",
    "            torch.nn.utils.clip_grad_norm_(model.parameters(), 1.0) \n",
    "            optimizer.step()\n",
    "            scheduler.step()\n",
    "            #print(f\"Batch {batch_idx}: Loss = {loss.item()}\")\n",
    "            batch_loss += loss.item()\n",
    "            running_loss += loss.item() * sents.size(0)\n",
    "            # Print the loss values and time elapsed for every 20 batches\n",
    "            if (batch_idx % 20 == 0 and batch_idx != 0) or (batch_idx == len(train_dataloader) - 1):\n",
    "                # Calculate time elapsed for 20 batches\n",
    "                time_elapsed = time.time() - t0_batch\n",
    "                # Print training results\n",
    "                print(f\"{epoch + 1:^7} | {batch_idx:^7} | {batch_loss / batch_counts:^12.6f} | {'-':^10} | {'-':^9} | {time_elapsed:^9.2f}\")\n",
    "        batch_loss, batch_counts = 0, 0\n",
    "        t0_batch = time.time()\n",
    "        train_loss = running_loss / len(train_dataloader.dataset)\n",
    "        train_losses.append(train_loss)\n",
    "        print(\"-\"*70)\n",
    "        \n",
    "        # Validation phase\n",
    "        model.eval()\n",
    "        running_loss = 0.0\n",
    "        val_accuracy1 = []\n",
    "        with torch.no_grad(): #to make sure the model weights are not touched\n",
    "            for sents, masks, texts, labels in val_dataloader1:\n",
    "                sents, masks, labels = sents.to(device), masks.to(device), labels.to(device)\n",
    "                outputs = model(sents, masks)\n",
    "                loss = loss_fn(outputs, labels)\n",
    "                running_loss += loss.item() * sents.size(0)\n",
    "                # Get the predictions\n",
    "                preds = torch.argmax(outputs, dim=1).flatten()\n",
    "                # Calculate the accuracy rate\n",
    "                accuracy = (preds == labels).cpu().numpy().mean() * 100\n",
    "                val_accuracy1.append(accuracy)\n",
    "                time_elapsed = time.time() - t0_epoch\n",
    "        val_loss1 = running_loss / len(val_dataloader1.dataset)\n",
    "        val_losses1.append(val_loss1)\n",
    "        val_accuracy1 = np.mean(val_accuracy1)\n",
    "    \n",
    "        #Print epoch stats\n",
    "        print(f\"{'Epoch':^7} | {'Dataset':^7} | {'Train Loss':^12} | {'Val Loss':^10} | {'Val Acc':^9} | {'Elapsed':^9}\")\n",
    "        print(\"-\"*70)\n",
    "        print(f\"{epoch+1:^7} | {'Sources':^7} | {train_loss:^12.6f} | {val_loss1:^10.6f} | {val_accuracy1:^9.2f} | {time_elapsed:^9.2f}\")\n",
    "        \n",
    "        running_loss = 0.0\n",
    "        val_accuracy2 = []\n",
    "        with torch.no_grad(): #to make sure the model weights are not touched\n",
    "            for sents, masks, texts, labels in val_dataloader2:\n",
    "                sents, masks, labels = sents.to(device), masks.to(device), labels.to(device)\n",
    "                outputs = model(sents, masks)\n",
    "                loss = loss_fn(outputs, labels)\n",
    "                running_loss += loss.item() * sents.size(0)\n",
    "                # Get the predictions\n",
    "                preds = torch.argmax(outputs, dim=1).flatten()\n",
    "                # Calculate the accuracy rate\n",
    "                accuracy = (preds == labels).cpu().numpy().mean() * 100\n",
    "                val_accuracy2.append(accuracy)\n",
    "                time_elapsed = time.time() - t0_epoch\n",
    "        val_loss2 = running_loss / len(val_dataloader2.dataset)\n",
    "        val_losses2.append(val_loss2)\n",
    "        val_accuracy2 = np.mean(val_accuracy2)\n",
    "    \n",
    "        #Print epoch stats\n",
    "        print(f\"{epoch+1:^7} | {'MB':^7} | {train_loss:^12.6f} | {val_loss2:^10.6f} | {val_accuracy2:^9.2f} | {time_elapsed:^9.2f}\")\n",
    "\n",
    "        running_loss = 0.0\n",
    "        val_accuracy3 = []\n",
    "        with torch.no_grad(): #to make sure the model weights are not touched\n",
    "            for sents, masks, texts, labels in val_dataloader3:\n",
    "                sents, masks, labels = sents.to(device), masks.to(device), labels.to(device)\n",
    "                outputs = model(sents, masks)\n",
    "                loss = loss_fn(outputs, labels)\n",
    "                running_loss += loss.item() * sents.size(0)\n",
    "                # Get the predictions\n",
    "                preds = torch.argmax(outputs, dim=1).flatten()\n",
    "                # Calculate the accuracy rate\n",
    "                accuracy = (preds == labels).cpu().numpy().mean() * 100\n",
    "                val_accuracy3.append(accuracy)\n",
    "                time_elapsed = time.time() - t0_epoch\n",
    "        val_loss3 = running_loss / len(val_dataloader3.dataset)\n",
    "        val_losses3.append(val_loss3)\n",
    "        val_accuracy3 = np.mean(val_accuracy3)\n",
    "    \n",
    "        #Print epoch stats\n",
    "        print(f\"{epoch+1:^7} | {'Generic':^7} | {train_loss:^12.6f} | {val_loss3:^10.6f} | {val_accuracy3:^9.2f} | {time_elapsed:^9.2f}\")\n",
    "\n",
    "    plt.plot(train_losses, label='Training loss')\n",
    "    plt.plot(val_losses1, label='Validation loss 1')\n",
    "    plt.plot(val_losses2, label='Validation loss 2')\n",
    "    plt.plot(val_losses3, label='Validation loss 3')\n",
    "    plt.legend()\n",
    "    plt.title(\"Loss over epochs\")\n",
    "    plt.show()\n",
    "\n",
    "    return model"
   ]
  },
  {
   "cell_type": "code",
   "execution_count": 35,
   "id": "923dd183-72be-41a4-8333-59f0b0fec57c",
   "metadata": {},
   "outputs": [
    {
     "name": "stdout",
     "output_type": "stream",
     "text": [
      " Epoch  |  Batch  |  Train Loss  |  Val Loss  |  Val Acc  |  Elapsed \n",
      "----------------------------------------------------------------------\n",
      "   1    |   20    |   0.417668   |     -      |     -     |   3.02   \n",
      "   1    |   40    |   0.341299   |     -      |     -     |   4.66   \n",
      "   1    |   60    |   0.290506   |     -      |     -     |   6.30   \n",
      "   1    |   80    |   0.247788   |     -      |     -     |   7.95   \n",
      "   1    |   100   |   0.218084   |     -      |     -     |   9.59   \n",
      "   1    |   120   |   0.201616   |     -      |     -     |   11.24  \n",
      "   1    |   139   |   0.182656   |     -      |     -     |   12.79  \n",
      "----------------------------------------------------------------------\n",
      " Epoch  | Dataset |  Train Loss  |  Val Loss  |  Val Acc  |  Elapsed \n",
      "----------------------------------------------------------------------\n",
      "   1    | Sources |   0.183362   |  0.238695  |   92.74   |   13.68  \n",
      "   1    |   MB    |   0.183362   |  0.481169  |   77.18   |   14.05  \n",
      "   1    | Generic |   0.183362   |  0.512824  |   72.57   |   14.14  \n",
      " Epoch  |  Batch  |  Train Loss  |  Val Loss  |  Val Acc  |  Elapsed \n",
      "----------------------------------------------------------------------\n",
      "   2    |   20    |   0.050713   |     -      |     -     |   1.73   \n",
      "   2    |   40    |   0.053706   |     -      |     -     |   3.39   \n",
      "   2    |   60    |   0.048260   |     -      |     -     |   5.05   \n",
      "   2    |   80    |   0.057978   |     -      |     -     |   6.69   \n",
      "   2    |   100   |   0.058719   |     -      |     -     |   8.34   \n",
      "   2    |   120   |   0.053685   |     -      |     -     |   10.00  \n",
      "   2    |   139   |   0.055157   |     -      |     -     |   11.54  \n",
      "----------------------------------------------------------------------\n",
      " Epoch  | Dataset |  Train Loss  |  Val Loss  |  Val Acc  |  Elapsed \n",
      "----------------------------------------------------------------------\n",
      "   2    | Sources |   0.055399   |  0.123332  |   96.79   |   12.42  \n",
      "   2    |   MB    |   0.055399   |  0.394064  |   91.67   |   12.78  \n",
      "   2    | Generic |   0.055399   |  0.469409  |   83.51   |   12.87  \n",
      " Epoch  |  Batch  |  Train Loss  |  Val Loss  |  Val Acc  |  Elapsed \n",
      "----------------------------------------------------------------------\n",
      "   3    |   20    |   0.020568   |     -      |     -     |   1.74   \n",
      "   3    |   40    |   0.030681   |     -      |     -     |   3.40   \n",
      "   3    |   60    |   0.026359   |     -      |     -     |   5.05   \n",
      "   3    |   80    |   0.023497   |     -      |     -     |   6.70   \n",
      "   3    |   100   |   0.021974   |     -      |     -     |   8.36   \n",
      "   3    |   120   |   0.024862   |     -      |     -     |   10.02  \n",
      "   3    |   139   |   0.022735   |     -      |     -     |   11.55  \n",
      "----------------------------------------------------------------------\n",
      " Epoch  | Dataset |  Train Loss  |  Val Loss  |  Val Acc  |  Elapsed \n",
      "----------------------------------------------------------------------\n",
      "   3    | Sources |   0.022832   |  0.132373  |   97.64   |   12.44  \n",
      "   3    |   MB    |   0.022832   |  0.585850  |   92.08   |   12.80  \n",
      "   3    | Generic |   0.022832   |  0.440658  |   83.51   |   12.89  \n",
      " Epoch  |  Batch  |  Train Loss  |  Val Loss  |  Val Acc  |  Elapsed \n",
      "----------------------------------------------------------------------\n",
      "   4    |   20    |   0.014700   |     -      |     -     |   1.73   \n",
      "   4    |   40    |   0.010713   |     -      |     -     |   3.39   \n",
      "   4    |   60    |   0.011126   |     -      |     -     |   5.05   \n",
      "   4    |   80    |   0.010234   |     -      |     -     |   6.69   \n",
      "   4    |   100   |   0.010499   |     -      |     -     |   8.34   \n",
      "   4    |   120   |   0.010190   |     -      |     -     |   9.99   \n",
      "   4    |   139   |   0.012112   |     -      |     -     |   11.52  \n",
      "----------------------------------------------------------------------\n",
      " Epoch  | Dataset |  Train Loss  |  Val Loss  |  Val Acc  |  Elapsed \n",
      "----------------------------------------------------------------------\n",
      "   4    | Sources |   0.010566   |  0.177430  |   97.80   |   12.40  \n",
      "   4    |   MB    |   0.010566   |  1.045223  |   91.67   |   12.76  \n",
      "   4    | Generic |   0.010566   |  0.571302  |   89.41   |   12.84  \n",
      " Epoch  |  Batch  |  Train Loss  |  Val Loss  |  Val Acc  |  Elapsed \n",
      "----------------------------------------------------------------------\n",
      "   5    |   20    |   0.017867   |     -      |     -     |   1.74   \n",
      "   5    |   40    |   0.011723   |     -      |     -     |   3.39   \n",
      "   5    |   60    |   0.009981   |     -      |     -     |   5.03   \n",
      "   5    |   80    |   0.009678   |     -      |     -     |   6.69   \n",
      "   5    |   100   |   0.009988   |     -      |     -     |   8.34   \n",
      "   5    |   120   |   0.010947   |     -      |     -     |   10.00  \n",
      "   5    |   139   |   0.011308   |     -      |     -     |   11.56  \n",
      "----------------------------------------------------------------------\n",
      " Epoch  | Dataset |  Train Loss  |  Val Loss  |  Val Acc  |  Elapsed \n",
      "----------------------------------------------------------------------\n",
      "   5    | Sources |   0.011355   |  0.149218  |   97.80   |   12.50  \n",
      "   5    |   MB    |   0.011355   |  0.824500  |   91.25   |   12.87  \n",
      "   5    | Generic |   0.011355   |  0.440111  |   89.41   |   12.95  \n",
      " Epoch  |  Batch  |  Train Loss  |  Val Loss  |  Val Acc  |  Elapsed \n",
      "----------------------------------------------------------------------\n",
      "   6    |   20    |   0.008615   |     -      |     -     |   1.74   \n",
      "   6    |   40    |   0.015788   |     -      |     -     |   3.42   \n",
      "   6    |   60    |   0.013136   |     -      |     -     |   5.08   \n",
      "   6    |   80    |   0.011909   |     -      |     -     |   6.73   \n",
      "   6    |   100   |   0.010425   |     -      |     -     |   8.39   \n",
      "   6    |   120   |   0.010315   |     -      |     -     |   10.05  \n",
      "   6    |   139   |   0.010228   |     -      |     -     |   11.60  \n",
      "----------------------------------------------------------------------\n",
      " Epoch  | Dataset |  Train Loss  |  Val Loss  |  Val Acc  |  Elapsed \n",
      "----------------------------------------------------------------------\n",
      "   6    | Sources |   0.010271   |  0.221271  |   98.14   |   12.51  \n",
      "   6    |   MB    |   0.010271   |  1.407224  |   92.08   |   12.87  \n",
      "   6    | Generic |   0.010271   |  0.676402  |   89.41   |   12.96  \n",
      " Epoch  |  Batch  |  Train Loss  |  Val Loss  |  Val Acc  |  Elapsed \n",
      "----------------------------------------------------------------------\n",
      "   7    |   20    |   0.008657   |     -      |     -     |   1.74   \n",
      "   7    |   40    |   0.006891   |     -      |     -     |   3.40   \n",
      "   7    |   60    |   0.006002   |     -      |     -     |   5.07   \n",
      "   7    |   80    |   0.005891   |     -      |     -     |   6.77   \n",
      "   7    |   100   |   0.005783   |     -      |     -     |   8.43   \n",
      "   7    |   120   |   0.005804   |     -      |     -     |   10.09  \n",
      "   7    |   139   |   0.005291   |     -      |     -     |   11.65  \n",
      "----------------------------------------------------------------------\n",
      " Epoch  | Dataset |  Train Loss  |  Val Loss  |  Val Acc  |  Elapsed \n",
      "----------------------------------------------------------------------\n",
      "   7    | Sources |   0.005296   |  0.202304  |   97.80   |   12.54  \n",
      "   7    |   MB    |   0.005296   |  1.342195  |   92.08   |   12.91  \n",
      "   7    | Generic |   0.005296   |  0.551502  |   93.75   |   13.00  \n"
     ]
    },
    {
     "data": {
      "image/png": "[encoded data removed]",
      "text/plain": [
       "<Figure size 640x480 with 1 Axes>"
      ]
     },
     "metadata": {},
     "output_type": "display_data"
    }
   ],
   "source": [
    "#run training loop for \"P\"\n",
    "model_P = training_loop(train_dataloader_P, val_dataloader_sources_P, val_dataloader_morebetter_P, val_dataloader_generic_P, class_weights_P)"
   ]
  },
  {
   "cell_type": "code",
   "execution_count": 36,
   "id": "942c05aa-c1b1-4fb7-a5eb-38fa3d3dc526",
   "metadata": {},
   "outputs": [
    {
     "name": "stdout",
     "output_type": "stream",
     "text": [
      " Epoch  |  Batch  |  Train Loss  |  Val Loss  |  Val Acc  |  Elapsed \n",
      "----------------------------------------------------------------------\n",
      "   1    |   20    |   0.632092   |     -      |     -     |   1.75   \n",
      "   1    |   40    |   0.587011   |     -      |     -     |   3.41   \n",
      "   1    |   60    |   0.546401   |     -      |     -     |   5.07   \n",
      "   1    |   80    |   0.506074   |     -      |     -     |   6.74   \n",
      "   1    |   100   |   0.479026   |     -      |     -     |   8.41   \n",
      "   1    |   120   |   0.458075   |     -      |     -     |   10.07  \n",
      "   1    |   139   |   0.430367   |     -      |     -     |   11.62  \n",
      "----------------------------------------------------------------------\n",
      " Epoch  | Dataset |  Train Loss  |  Val Loss  |  Val Acc  |  Elapsed \n",
      "----------------------------------------------------------------------\n",
      "   1    | Sources |   0.431928   |  0.297245  |   86.60   |   12.51  \n",
      "   1    |   MB    |   0.431928   |  0.763705  |   70.69   |   12.88  \n",
      "   1    | Generic |   0.431928   |  0.383378  |   85.07   |   12.97  \n",
      " Epoch  |  Batch  |  Train Loss  |  Val Loss  |  Val Acc  |  Elapsed \n",
      "----------------------------------------------------------------------\n",
      "   2    |   20    |   0.279394   |     -      |     -     |   1.74   \n",
      "   2    |   40    |   0.263351   |     -      |     -     |   3.41   \n",
      "   2    |   60    |   0.240373   |     -      |     -     |   5.06   \n",
      "   2    |   80    |   0.230221   |     -      |     -     |   6.72   \n",
      "   2    |   100   |   0.238520   |     -      |     -     |   8.40   \n",
      "   2    |   120   |   0.229670   |     -      |     -     |   10.08  \n",
      "   2    |   139   |   0.221729   |     -      |     -     |   11.63  \n",
      "----------------------------------------------------------------------\n",
      " Epoch  | Dataset |  Train Loss  |  Val Loss  |  Val Acc  |  Elapsed \n",
      "----------------------------------------------------------------------\n",
      "   2    | Sources |   0.222518   |  0.156197  |   92.85   |   12.54  \n",
      "   2    |   MB    |   0.222518   |  0.577635  |   78.61   |   12.90  \n",
      "   2    | Generic |   0.222518   |  0.280014  |   88.19   |   13.00  \n",
      " Epoch  |  Batch  |  Train Loss  |  Val Loss  |  Val Acc  |  Elapsed \n",
      "----------------------------------------------------------------------\n",
      "   3    |   20    |   0.174082   |     -      |     -     |   1.75   \n",
      "   3    |   40    |   0.170592   |     -      |     -     |   3.41   \n",
      "   3    |   60    |   0.146318   |     -      |     -     |   5.07   \n",
      "   3    |   80    |   0.139724   |     -      |     -     |   6.72   \n",
      "   3    |   100   |   0.157041   |     -      |     -     |   8.39   \n",
      "   3    |   120   |   0.162065   |     -      |     -     |   10.06  \n",
      "   3    |   139   |   0.157573   |     -      |     -     |   11.61  \n",
      "----------------------------------------------------------------------\n",
      " Epoch  | Dataset |  Train Loss  |  Val Loss  |  Val Acc  |  Elapsed \n",
      "----------------------------------------------------------------------\n",
      "   3    | Sources |   0.158218   |  0.149101  |   93.36   |   12.52  \n",
      "   3    |   MB    |   0.158218   |  0.587366  |   76.85   |   12.88  \n",
      "   3    | Generic |   0.158218   |  0.361598  |   83.85   |   12.97  \n",
      " Epoch  |  Batch  |  Train Loss  |  Val Loss  |  Val Acc  |  Elapsed \n",
      "----------------------------------------------------------------------\n",
      "   4    |   20    |   0.167075   |     -      |     -     |   1.76   \n",
      "   4    |   40    |   0.161502   |     -      |     -     |   3.43   \n",
      "   4    |   60    |   0.161338   |     -      |     -     |   5.12   \n",
      "   4    |   80    |   0.144287   |     -      |     -     |   6.79   \n",
      "   4    |   100   |   0.133641   |     -      |     -     |   8.46   \n",
      "   4    |   120   |   0.125184   |     -      |     -     |   10.12  \n",
      "   4    |   139   |   0.123099   |     -      |     -     |   11.66  \n",
      "----------------------------------------------------------------------\n",
      " Epoch  | Dataset |  Train Loss  |  Val Loss  |  Val Acc  |  Elapsed \n",
      "----------------------------------------------------------------------\n",
      "   4    | Sources |   0.123621   |  0.200128  |   92.34   |   12.56  \n",
      "   4    |   MB    |   0.123621   |  0.760124  |   79.86   |   12.93  \n",
      "   4    | Generic |   0.123621   |  0.325882  |   89.76   |   13.02  \n",
      " Epoch  |  Batch  |  Train Loss  |  Val Loss  |  Val Acc  |  Elapsed \n",
      "----------------------------------------------------------------------\n",
      "   5    |   20    |   0.066288   |     -      |     -     |   1.76   \n",
      "   5    |   40    |   0.114590   |     -      |     -     |   3.42   \n",
      "   5    |   60    |   0.099982   |     -      |     -     |   5.10   \n",
      "   5    |   80    |   0.097710   |     -      |     -     |   6.78   \n",
      "   5    |   100   |   0.087474   |     -      |     -     |   8.44   \n",
      "   5    |   120   |   0.085466   |     -      |     -     |   10.11  \n",
      "   5    |   139   |   0.085822   |     -      |     -     |   11.66  \n",
      "----------------------------------------------------------------------\n",
      " Epoch  | Dataset |  Train Loss  |  Val Loss  |  Val Acc  |  Elapsed \n",
      "----------------------------------------------------------------------\n",
      "   5    | Sources |   0.086215   |  0.289541  |   91.33   |   12.56  \n",
      "   5    |   MB    |   0.086215   |  0.826452  |   81.85   |   12.92  \n",
      "   5    | Generic |   0.086215   |  0.361852  |   89.76   |   13.01  \n",
      " Epoch  |  Batch  |  Train Loss  |  Val Loss  |  Val Acc  |  Elapsed \n",
      "----------------------------------------------------------------------\n",
      "   6    |   20    |   0.103001   |     -      |     -     |   1.75   \n",
      "   6    |   40    |   0.093359   |     -      |     -     |   3.41   \n",
      "   6    |   60    |   0.072345   |     -      |     -     |   5.07   \n",
      "   6    |   80    |   0.075562   |     -      |     -     |   6.73   \n",
      "   6    |   100   |   0.078004   |     -      |     -     |   8.40   \n",
      "   6    |   120   |   0.068511   |     -      |     -     |   10.06  \n",
      "   6    |   139   |   0.067574   |     -      |     -     |   11.61  \n",
      "----------------------------------------------------------------------\n",
      " Epoch  | Dataset |  Train Loss  |  Val Loss  |  Val Acc  |  Elapsed \n",
      "----------------------------------------------------------------------\n",
      "   6    | Sources |   0.067866   |  0.228259  |   93.19   |   12.50  \n",
      "   6    |   MB    |   0.067866   |  0.791295  |   82.27   |   12.86  \n",
      "   6    | Generic |   0.067866   |  0.392001  |   89.76   |   12.95  \n",
      " Epoch  |  Batch  |  Train Loss  |  Val Loss  |  Val Acc  |  Elapsed \n",
      "----------------------------------------------------------------------\n",
      "   7    |   20    |   0.028966   |     -      |     -     |   1.75   \n",
      "   7    |   40    |   0.068238   |     -      |     -     |   3.41   \n",
      "   7    |   60    |   0.060421   |     -      |     -     |   5.07   \n",
      "   7    |   80    |   0.054303   |     -      |     -     |   6.73   \n",
      "   7    |   100   |   0.055261   |     -      |     -     |   8.39   \n",
      "   7    |   120   |   0.066239   |     -      |     -     |   10.07  \n",
      "   7    |   139   |   0.065920   |     -      |     -     |   11.61  \n",
      "----------------------------------------------------------------------\n",
      " Epoch  | Dataset |  Train Loss  |  Val Loss  |  Val Acc  |  Elapsed \n",
      "----------------------------------------------------------------------\n",
      "   7    | Sources |   0.065889   |  0.226386  |   93.19   |   12.51  \n",
      "   7    |   MB    |   0.065889   |  0.795352  |   83.43   |   12.87  \n",
      "   7    | Generic |   0.065889   |  0.392465  |   89.76   |   12.96  \n"
     ]
    },
    {
     "data": {
      "image/png": "[encoded data removed]",
      "text/plain": [
       "<Figure size 640x480 with 1 Axes>"
      ]
     },
     "metadata": {},
     "output_type": "display_data"
    }
   ],
   "source": [
    "#run training loop for \"L\"\n",
    "model_L = training_loop(train_dataloader_L, val_dataloader_sources_L, val_dataloader_morebetter_L, val_dataloader_generic_L, class_weights_L)"
   ]
  },
  {
   "cell_type": "code",
   "execution_count": 37,
   "id": "63d07923-1318-4908-ae16-09caff916f43",
   "metadata": {},
   "outputs": [
    {
     "name": "stdout",
     "output_type": "stream",
     "text": [
      " Epoch  |  Batch  |  Train Loss  |  Val Loss  |  Val Acc  |  Elapsed \n",
      "----------------------------------------------------------------------\n",
      "   1    |   20    |   0.498326   |     -      |     -     |   1.78   \n",
      "   1    |   40    |   0.382453   |     -      |     -     |   3.45   \n",
      "   1    |   60    |   0.316783   |     -      |     -     |   5.13   \n",
      "   1    |   80    |   0.282962   |     -      |     -     |   6.80   \n",
      "   1    |   100   |   0.247584   |     -      |     -     |   8.48   \n",
      "   1    |   120   |   0.222095   |     -      |     -     |   10.16  \n",
      "   1    |   139   |   0.202690   |     -      |     -     |   11.72  \n",
      "----------------------------------------------------------------------\n",
      " Epoch  | Dataset |  Train Loss  |  Val Loss  |  Val Acc  |  Elapsed \n",
      "----------------------------------------------------------------------\n",
      "   1    | Sources |   0.202669   |  0.179246  |   94.43   |   12.62  \n",
      "   1    |   MB    |   0.202669   |  0.807466  |   60.46   |   12.98  \n",
      "   1    | Generic |   0.202669   |  0.405412  |   89.06   |   13.07  \n",
      " Epoch  |  Batch  |  Train Loss  |  Val Loss  |  Val Acc  |  Elapsed \n",
      "----------------------------------------------------------------------\n",
      "   2    |   20    |   0.064292   |     -      |     -     |   1.76   \n",
      "   2    |   40    |   0.063701   |     -      |     -     |   3.42   \n",
      "   2    |   60    |   0.054344   |     -      |     -     |   5.08   \n",
      "   2    |   80    |   0.053637   |     -      |     -     |   6.75   \n",
      "   2    |   100   |   0.054407   |     -      |     -     |   8.42   \n",
      "   2    |   120   |   0.048989   |     -      |     -     |   10.10  \n",
      "   2    |   139   |   0.048284   |     -      |     -     |   11.65  \n",
      "----------------------------------------------------------------------\n",
      " Epoch  | Dataset |  Train Loss  |  Val Loss  |  Val Acc  |  Elapsed \n",
      "----------------------------------------------------------------------\n",
      "   2    | Sources |   0.047819   |  0.118223  |   97.13   |   12.54  \n",
      "   2    |   MB    |   0.047819   |  0.796656  |   74.35   |   12.90  \n",
      "   2    | Generic |   0.047819   |  0.196695  |   95.31   |   12.99  \n",
      " Epoch  |  Batch  |  Train Loss  |  Val Loss  |  Val Acc  |  Elapsed \n",
      "----------------------------------------------------------------------\n",
      "   3    |   20    |   0.011607   |     -      |     -     |   1.75   \n",
      "   3    |   40    |   0.021096   |     -      |     -     |   3.42   \n",
      "   3    |   60    |   0.020937   |     -      |     -     |   5.08   \n",
      "   3    |   80    |   0.020244   |     -      |     -     |   6.74   \n",
      "   3    |   100   |   0.022037   |     -      |     -     |   8.40   \n",
      "   3    |   120   |   0.022934   |     -      |     -     |   10.06  \n",
      "   3    |   139   |   0.022413   |     -      |     -     |   11.62  \n",
      "----------------------------------------------------------------------\n",
      " Epoch  | Dataset |  Train Loss  |  Val Loss  |  Val Acc  |  Elapsed \n",
      "----------------------------------------------------------------------\n",
      "   3    | Sources |   0.022509   |  0.113672  |   97.47   |   12.52  \n",
      "   3    |   MB    |   0.022509   |  0.857113  |   78.52   |   12.88  \n",
      "   3    | Generic |   0.022509   |  0.171790  |   96.88   |   12.97  \n",
      " Epoch  |  Batch  |  Train Loss  |  Val Loss  |  Val Acc  |  Elapsed \n",
      "----------------------------------------------------------------------\n",
      "   4    |   20    |   0.015615   |     -      |     -     |   1.75   \n",
      "   4    |   40    |   0.017217   |     -      |     -     |   3.42   \n",
      "   4    |   60    |   0.021090   |     -      |     -     |   5.09   \n",
      "   4    |   80    |   0.019565   |     -      |     -     |   6.77   \n",
      "   4    |   100   |   0.022828   |     -      |     -     |   8.44   \n",
      "   4    |   120   |   0.023925   |     -      |     -     |   10.11  \n",
      "   4    |   139   |   0.021958   |     -      |     -     |   11.67  \n",
      "----------------------------------------------------------------------\n",
      " Epoch  | Dataset |  Train Loss  |  Val Loss  |  Val Acc  |  Elapsed \n",
      "----------------------------------------------------------------------\n",
      "   4    | Sources |   0.022050   |  0.142820  |   97.47   |   12.57  \n",
      "   4    |   MB    |   0.022050   |  0.922052  |   78.94   |   12.94  \n",
      "   4    | Generic |   0.022050   |  0.158910  |   96.88   |   13.03  \n",
      " Epoch  |  Batch  |  Train Loss  |  Val Loss  |  Val Acc  |  Elapsed \n",
      "----------------------------------------------------------------------\n",
      "   5    |   20    |   0.009824   |     -      |     -     |   1.76   \n",
      "   5    |   40    |   0.007679   |     -      |     -     |   3.43   \n",
      "   5    |   60    |   0.010067   |     -      |     -     |   5.10   \n",
      "   5    |   80    |   0.009544   |     -      |     -     |   6.76   \n",
      "   5    |   100   |   0.012383   |     -      |     -     |   8.43   \n",
      "   5    |   120   |   0.013985   |     -      |     -     |   10.09  \n",
      "   5    |   139   |   0.013444   |     -      |     -     |   11.64  \n",
      "----------------------------------------------------------------------\n",
      " Epoch  | Dataset |  Train Loss  |  Val Loss  |  Val Acc  |  Elapsed \n",
      "----------------------------------------------------------------------\n",
      "   5    | Sources |   0.013498   |  0.149369  |   97.80   |   12.54  \n",
      "   5    |   MB    |   0.013498   |  1.223394  |   83.84   |   12.90  \n",
      "   5    | Generic |   0.013498   |  0.121216  |   98.44   |   12.99  \n",
      " Epoch  |  Batch  |  Train Loss  |  Val Loss  |  Val Acc  |  Elapsed \n",
      "----------------------------------------------------------------------\n",
      "   6    |   20    |   0.010825   |     -      |     -     |   1.75   \n",
      "   6    |   40    |   0.010092   |     -      |     -     |   3.42   \n",
      "   6    |   60    |   0.010540   |     -      |     -     |   5.09   \n",
      "   6    |   80    |   0.009125   |     -      |     -     |   6.76   \n",
      "   6    |   100   |   0.007697   |     -      |     -     |   8.43   \n",
      "   6    |   120   |   0.008582   |     -      |     -     |   10.10  \n",
      "   6    |   139   |   0.007751   |     -      |     -     |   11.64  \n",
      "----------------------------------------------------------------------\n",
      " Epoch  | Dataset |  Train Loss  |  Val Loss  |  Val Acc  |  Elapsed \n",
      "----------------------------------------------------------------------\n",
      "   6    | Sources |   0.007780   |  0.153715  |   97.80   |   12.55  \n",
      "   6    |   MB    |   0.007780   |  1.241389  |   83.43   |   12.92  \n",
      "   6    | Generic |   0.007780   |  0.445177  |   96.88   |   13.01  \n",
      " Epoch  |  Batch  |  Train Loss  |  Val Loss  |  Val Acc  |  Elapsed \n",
      "----------------------------------------------------------------------\n",
      "   7    |   20    |   0.002941   |     -      |     -     |   1.75   \n",
      "   7    |   40    |   0.005689   |     -      |     -     |   3.42   \n",
      "   7    |   60    |   0.008701   |     -      |     -     |   5.10   \n",
      "   7    |   80    |   0.008096   |     -      |     -     |   6.76   \n",
      "   7    |   100   |   0.007441   |     -      |     -     |   8.43   \n",
      "   7    |   120   |   0.006516   |     -      |     -     |   10.10  \n",
      "   7    |   139   |   0.006793   |     -      |     -     |   11.65  \n",
      "----------------------------------------------------------------------\n",
      " Epoch  | Dataset |  Train Loss  |  Val Loss  |  Val Acc  |  Elapsed \n",
      "----------------------------------------------------------------------\n",
      "   7    | Sources |   0.006819   |  0.143134  |   97.80   |   12.56  \n",
      "   7    |   MB    |   0.006819   |  1.219147  |   83.43   |   12.92  \n",
      "   7    | Generic |   0.006819   |  0.413063  |   96.88   |   13.01  \n"
     ]
    },
    {
     "data": {
      "image/png": "[encoded data removed]",
      "text/plain": [
       "<Figure size 640x480 with 1 Axes>"
      ]
     },
     "metadata": {},
     "output_type": "display_data"
    }
   ],
   "source": [
    "#run training loop for \"S\"\n",
    "model_S = training_loop(train_dataloader_S, val_dataloader_sources_S, val_dataloader_morebetter_S, val_dataloader_generic_S,class_weights_S)"
   ]
  },
  {
   "cell_type": "code",
   "execution_count": 38,
   "id": "7599640d-f810-4a4c-94c3-e40000dd510e",
   "metadata": {},
   "outputs": [
    {
     "name": "stdout",
     "output_type": "stream",
     "text": [
      " Epoch  |  Batch  |  Train Loss  |  Val Loss  |  Val Acc  |  Elapsed \n",
      "----------------------------------------------------------------------\n",
      "   1    |   20    |   0.534716   |     -      |     -     |   1.78   \n",
      "   1    |   40    |   0.482415   |     -      |     -     |   3.46   \n",
      "   1    |   60    |   0.440018   |     -      |     -     |   5.15   \n",
      "   1    |   80    |   0.416385   |     -      |     -     |   6.85   \n",
      "   1    |   100   |   0.394592   |     -      |     -     |   8.55   \n",
      "   1    |   120   |   0.377332   |     -      |     -     |   10.24  \n",
      "   1    |   139   |   0.359850   |     -      |     -     |   11.81  \n",
      "----------------------------------------------------------------------\n",
      " Epoch  | Dataset |  Train Loss  |  Val Loss  |  Val Acc  |  Elapsed \n",
      "----------------------------------------------------------------------\n",
      "   1    | Sources |   0.361113   |  0.541474  |   72.24   |   12.75  \n",
      "   1    |   MB    |   0.361113   |  1.476663  |   14.58   |   13.12  \n",
      "   1    | Generic |   0.361113   |  0.672275  |   42.71   |   13.21  \n",
      " Epoch  |  Batch  |  Train Loss  |  Val Loss  |  Val Acc  |  Elapsed \n",
      "----------------------------------------------------------------------\n",
      "   2    |   20    |   0.260747   |     -      |     -     |   1.75   \n",
      "   2    |   40    |   0.261449   |     -      |     -     |   3.42   \n",
      "   2    |   60    |   0.251023   |     -      |     -     |   5.08   \n",
      "   2    |   80    |   0.236846   |     -      |     -     |   6.75   \n",
      "   2    |   100   |   0.223715   |     -      |     -     |   8.42   \n",
      "   2    |   120   |   0.211285   |     -      |     -     |   10.10  \n",
      "   2    |   139   |   0.203493   |     -      |     -     |   11.65  \n",
      "----------------------------------------------------------------------\n",
      " Epoch  | Dataset |  Train Loss  |  Val Loss  |  Val Acc  |  Elapsed \n",
      "----------------------------------------------------------------------\n",
      "   2    | Sources |   0.204356   |  0.472752  |   82.55   |   12.57  \n",
      "   2    |   MB    |   0.204356   |  1.260003  |   33.15   |   12.94  \n",
      "   2    | Generic |   0.204356   |  0.829892  |   51.74   |   13.03  \n",
      " Epoch  |  Batch  |  Train Loss  |  Val Loss  |  Val Acc  |  Elapsed \n",
      "----------------------------------------------------------------------\n",
      "   3    |   20    |   0.152707   |     -      |     -     |   1.75   \n",
      "   3    |   40    |   0.150591   |     -      |     -     |   3.43   \n",
      "   3    |   60    |   0.141396   |     -      |     -     |   5.11   \n",
      "   3    |   80    |   0.135406   |     -      |     -     |   6.82   \n",
      "   3    |   100   |   0.135693   |     -      |     -     |   8.48   \n",
      "   3    |   120   |   0.125403   |     -      |     -     |   10.16  \n",
      "   3    |   139   |   0.124943   |     -      |     -     |   11.71  \n",
      "----------------------------------------------------------------------\n",
      " Epoch  | Dataset |  Train Loss  |  Val Loss  |  Val Acc  |  Elapsed \n",
      "----------------------------------------------------------------------\n",
      "   3    | Sources |   0.125499   |  0.515458  |   87.78   |   12.61  \n",
      "   3    |   MB    |   0.125499   |  1.377373  |   51.53   |   12.97  \n",
      "   3    | Generic |   0.125499   |  0.980476  |   61.98   |   13.05  \n",
      " Epoch  |  Batch  |  Train Loss  |  Val Loss  |  Val Acc  |  Elapsed \n",
      "----------------------------------------------------------------------\n",
      "   4    |   20    |   0.112754   |     -      |     -     |   1.76   \n",
      "   4    |   40    |   0.118058   |     -      |     -     |   3.45   \n",
      "   4    |   60    |   0.113291   |     -      |     -     |   5.12   \n",
      "   4    |   80    |   0.108137   |     -      |     -     |   6.79   \n",
      "   4    |   100   |   0.098968   |     -      |     -     |   8.47   \n",
      "   4    |   120   |   0.093405   |     -      |     -     |   10.14  \n",
      "   4    |   139   |   0.089773   |     -      |     -     |   11.69  \n",
      "----------------------------------------------------------------------\n",
      " Epoch  | Dataset |  Train Loss  |  Val Loss  |  Val Acc  |  Elapsed \n",
      "----------------------------------------------------------------------\n",
      "   4    | Sources |   0.090021   |  0.609022  |   91.67   |   12.61  \n",
      "   4    |   MB    |   0.090021   |  1.460990  |   72.18   |   12.97  \n",
      "   4    | Generic |   0.090021   |  1.304229  |   69.44   |   13.07  \n",
      " Epoch  |  Batch  |  Train Loss  |  Val Loss  |  Val Acc  |  Elapsed \n",
      "----------------------------------------------------------------------\n",
      "   5    |   20    |   0.099216   |     -      |     -     |   1.75   \n",
      "   5    |   40    |   0.074233   |     -      |     -     |   3.42   \n",
      "   5    |   60    |   0.070059   |     -      |     -     |   5.09   \n",
      "   5    |   80    |   0.072285   |     -      |     -     |   6.77   \n",
      "   5    |   100   |   0.074011   |     -      |     -     |   8.45   \n",
      "   5    |   120   |   0.075104   |     -      |     -     |   10.18  \n",
      "   5    |   139   |   0.076320   |     -      |     -     |   11.73  \n",
      "----------------------------------------------------------------------\n",
      " Epoch  | Dataset |  Train Loss  |  Val Loss  |  Val Acc  |  Elapsed \n",
      "----------------------------------------------------------------------\n",
      "   5    | Sources |   0.072449   |  0.622648  |   90.82   |   12.64  \n",
      "   5    |   MB    |   0.072449   |  1.601503  |   73.01   |   13.02  \n",
      "   5    | Generic |   0.072449   |  1.382631  |   66.32   |   13.11  \n",
      " Epoch  |  Batch  |  Train Loss  |  Val Loss  |  Val Acc  |  Elapsed \n",
      "----------------------------------------------------------------------\n",
      "   6    |   20    |   0.030880   |     -      |     -     |   1.77   \n",
      "   6    |   40    |   0.046940   |     -      |     -     |   3.44   \n",
      "   6    |   60    |   0.056313   |     -      |     -     |   5.11   \n",
      "   6    |   80    |   0.048657   |     -      |     -     |   6.79   \n",
      "   6    |   100   |   0.046870   |     -      |     -     |   8.46   \n",
      "   6    |   120   |   0.042241   |     -      |     -     |   10.15  \n",
      "   6    |   139   |   0.042150   |     -      |     -     |   11.70  \n",
      "----------------------------------------------------------------------\n",
      " Epoch  | Dataset |  Train Loss  |  Val Loss  |  Val Acc  |  Elapsed \n",
      "----------------------------------------------------------------------\n",
      "   6    | Sources |   0.040449   |  0.675179  |   91.67   |   12.62  \n",
      "   6    |   MB    |   0.040449   |  1.681167  |   74.26   |   12.98  \n",
      "   6    | Generic |   0.040449   |  1.635702  |   69.44   |   13.07  \n",
      " Epoch  |  Batch  |  Train Loss  |  Val Loss  |  Val Acc  |  Elapsed \n",
      "----------------------------------------------------------------------\n",
      "   7    |   20    |   0.038185   |     -      |     -     |   1.76   \n",
      "   7    |   40    |   0.027807   |     -      |     -     |   3.47   \n",
      "   7    |   60    |   0.026532   |     -      |     -     |   5.15   \n",
      "   7    |   80    |   0.033762   |     -      |     -     |   6.82   \n",
      "   7    |   100   |   0.035219   |     -      |     -     |   8.51   \n",
      "   7    |   120   |   0.037635   |     -      |     -     |   10.19  \n",
      "   7    |   139   |   0.037329   |     -      |     -     |   11.74  \n",
      "----------------------------------------------------------------------\n",
      " Epoch  | Dataset |  Train Loss  |  Val Loss  |  Val Acc  |  Elapsed \n",
      "----------------------------------------------------------------------\n",
      "   7    | Sources |   0.037393   |  0.680935  |   91.84   |   12.64  \n",
      "   7    |   MB    |   0.037393   |  1.713004  |   74.68   |   13.00  \n",
      "   7    | Generic |   0.037393   |  1.608309  |   66.32   |   13.09  \n"
     ]
    },
    {
     "data": {
      "image/png": "[encoded data removed]",
      "text/plain": [
       "<Figure size 640x480 with 1 Axes>"
      ]
     },
     "metadata": {},
     "output_type": "display_data"
    }
   ],
   "source": [
    "#run training loop for \"O\"\n",
    "model_O = training_loop(train_dataloader_O, val_dataloader_sources_O, val_dataloader_morebetter_O, val_dataloader_generic_O, class_weights_O)"
   ]
  },
  {
   "cell_type": "code",
   "execution_count": null,
   "id": "bb9cdcf3-fd5b-4040-bef3-54fb1a07842d",
   "metadata": {},
   "outputs": [],
   "source": []
  },
  {
   "cell_type": "code",
   "execution_count": 39,
   "id": "e5fb946f-2eb5-496f-b2c2-00217b07c59e",
   "metadata": {},
   "outputs": [],
   "source": [
    "#torch.save(model_P, \"model_O.pt\")\n",
    "#torch.save(model_L, \"model_O.pt\")\n",
    "#torch.save(model_S, \"model_O.pt\")\n",
    "#torch.save(model_O, \"model_O.pt\")"
   ]
  },
  {
   "cell_type": "code",
   "execution_count": 40,
   "id": "d08738d9-f815-4e9f-88cd-33c8ce43cdfa",
   "metadata": {},
   "outputs": [],
   "source": [
    "#tokenizer.save_pretrained('my_tokenizer/')"
   ]
  },
  {
   "cell_type": "code",
   "execution_count": 41,
   "id": "803466b1-5f60-4624-9787-c170db41baa0",
   "metadata": {},
   "outputs": [],
   "source": [
    "# TODO: save models and test dataloaders and bring to new notebook, with everything past this point"
   ]
  },
  {
   "cell_type": "code",
   "execution_count": 42,
   "id": "abd70303-8c99-4bf6-a54e-c91b5afd411f",
   "metadata": {},
   "outputs": [],
   "source": [
    "#TODO make function for evaluation on test set - this is a separate notebook\n",
    "#to save test_dataloader to use in separate notebook:\n",
    "#torch.save(dataloader_obj, 'dataloader.pth')\n",
    "#torch.load"
   ]
  },
  {
   "cell_type": "code",
   "execution_count": null,
   "id": "283fd1da-1854-4c3e-a1ff-dd401cce8d10",
   "metadata": {},
   "outputs": [],
   "source": []
  },
  {
   "cell_type": "code",
   "execution_count": 43,
   "id": "4ef62cee-5341-4c3a-911c-9c840e715562",
   "metadata": {},
   "outputs": [],
   "source": [
    "def apply_model_to_data_set(model, dataloader):\n",
    "    model.eval()\n",
    "    model=model.to(device)\n",
    "    all_logits = []\n",
    "    all_labels = []\n",
    "    # For each batch in our test set...\n",
    "    for sents, masks, texts, labels in dataloader:\n",
    "        sents, masks = sents.to(device), masks.to(device)\n",
    "        # Compute logits\n",
    "        with torch.no_grad():\n",
    "            logits = model(sents, masks)\n",
    "            all_logits.append(logits)\n",
    "            all_labels.append(labels)\n",
    "    # Concatenate logits from each batch\n",
    "    all_logits = torch.cat(all_logits, dim=0)\n",
    "    all_labels = torch.cat(all_labels, dim = 0).cpu().numpy()\n",
    "    # Apply softmax to calculate probabilities\n",
    "    probs = F.softmax(all_logits, dim=1).cpu().numpy()\n",
    "    preds = torch.argmax(all_logits, dim=1).flatten().cpu().numpy()\n",
    "    all_logits = all_logits.cpu().numpy()\n",
    "    return all_logits, all_labels, probs, preds"
   ]
  },
  {
   "cell_type": "markdown",
   "id": "56274eb7-d844-4e2b-b45b-a4ae70dd772b",
   "metadata": {},
   "source": [
    "## Make calibration curves and calculate estimate for L in sources"
   ]
  },
  {
   "cell_type": "code",
   "execution_count": 44,
   "id": "993eecfd-d8fa-4422-9aa9-d13f64192439",
   "metadata": {},
   "outputs": [],
   "source": [
    "(all_logits_test, all_labels_test, probs_test, preds_test) = apply_model_to_data_set(model_L, test_dataloader_sources_L)\n",
    "(all_logits_val, all_labels_val, probs_val, preds_val) = apply_model_to_data_set(model_L, val_dataloader_sources_L)"
   ]
  },
  {
   "cell_type": "code",
   "execution_count": 45,
   "id": "9559432b-390a-449f-b3d6-4a063c72254a",
   "metadata": {},
   "outputs": [
    {
     "data": {
      "text/plain": [
       "(array([126.,   0.,   1.,   2.,   0.,   2.,   1.,   0.,   1.,   0.,   2.,\n",
       "          0.,   1.,   1.,   2.,   1.,   2.,   6.,   0., 431.]),\n",
       " array([0.00429342, 0.05391894, 0.10354446, 0.15316997, 0.20279549,\n",
       "        0.25242099, 0.30204651, 0.35167202, 0.40129754, 0.45092306,\n",
       "        0.5005486 , 0.55017412, 0.59979963, 0.64942515, 0.69905066,\n",
       "        0.74867618, 0.7983017 , 0.84792721, 0.89755273, 0.94717824,\n",
       "        0.99680376]),\n",
       " <BarContainer object of 20 artists>)"
      ]
     },
     "execution_count": 45,
     "metadata": {},
     "output_type": "execute_result"
    },
    {
     "data": {
      "image/png": "[encoded data removed]",
      "text/plain": [
       "<Figure size 640x480 with 1 Axes>"
      ]
     },
     "metadata": {},
     "output_type": "display_data"
    }
   ],
   "source": [
    "# Set up plots and view distribution of C(x)\n",
    "fig, axs = plt.subplots(1, 1, sharey=True, tight_layout=True)\n",
    "df_val = pd.DataFrame(data = {\"probs\": probs_val[:,1], \"gt_label\":all_labels_val, \"text\":list(val_dataset_sources_L.texts.values)})\n",
    "axs.hist(df_val[\"probs\"], bins = 20)"
   ]
  },
  {
   "cell_type": "code",
   "execution_count": 46,
   "id": "4ea54964-c7b6-4a2f-86a9-d166a3f5ae54",
   "metadata": {},
   "outputs": [
    {
     "data": {
      "image/png": "[encoded data removed]",
      "text/plain": [
       "<Figure size 300x300 with 1 Axes>"
      ]
     },
     "metadata": {},
     "output_type": "display_data"
    }
   ],
   "source": [
    "# Get binned calibration curve from validation set\n",
    "binned_cal_curve = cal.generate_calibration_curve_binned(df_val, num_bin = 10, binary = True)\n",
    "binned_cal_curve.plot(show_diagonal=True, filled = False)"
   ]
  },
  {
   "cell_type": "code",
   "execution_count": 69,
   "id": "bf15cf39-c7a5-474a-90c2-ad0565c217fd",
   "metadata": {},
   "outputs": [
    {
     "data": {
      "image/png": "[encoded data removed]",
      "text/plain": [
       "<Figure size 300x300 with 1 Axes>"
      ]
     },
     "metadata": {},
     "output_type": "display_data"
    }
   ],
   "source": [
    "# Get platt calibration curve from validation set\n",
    "platt_cal_curve = cal.generate_calibration_curve_platt(df_val, binary = True)\n",
    "platt_cal_curve.plot(show_diagonal=True, filled = False)\n",
    "plt.savefig(\"cal_curve.png\", bbox_inches='tight')\n",
    "plt.savefig(\"cal_curve.pdf\", bbox_inches='tight')"
   ]
  },
  {
   "cell_type": "code",
   "execution_count": 48,
   "id": "65a5fb4a-d6c5-40a3-be38-d6096aa8d9a5",
   "metadata": {},
   "outputs": [
    {
     "name": "stdout",
     "output_type": "stream",
     "text": [
      "Assuming stable calibration curve -- estimated prevalence: 0.759\n"
     ]
    }
   ],
   "source": [
    "# Use the calibration curve from validation set to estimate prevalence in test set\n",
    "df_test = pd.DataFrame(data = {\"probs\": probs_test[:,1], \"text\":list(test_dataset_sources_L.texts.values)})\n",
    "est_prevalence = cal.extrinsic_estimate(df_test, platt_cal_curve, code = \"L\")\n",
    "print(f'Assuming stable calibration curve -- estimated prevalence: {est_prevalence:.3f}')"
   ]
  },
  {
   "cell_type": "code",
   "execution_count": 49,
   "id": "a21ad264-8e6a-45be-a78e-04448bea32cd",
   "metadata": {},
   "outputs": [
    {
     "name": "stdout",
     "output_type": "stream",
     "text": [
      "0.7616580310880829\n",
      "0.7633851468048359\n"
     ]
    }
   ],
   "source": [
    "# Compare estimated prevalence to real prevalence\n",
    "print(np.mean(all_labels_test))\n",
    "print(np.mean(preds_test))"
   ]
  },
  {
   "cell_type": "code",
   "execution_count": 50,
   "id": "a238cefc-3f24-48df-93e3-5a07c4b10f4b",
   "metadata": {},
   "outputs": [],
   "source": [
    "## View calibration curves from test set (just for fun)\n",
    "#df_test = pd.DataFrame(data = {\"probs\": probs_test[:,1], \"gt_label\":all_labels_test, \"text\":list(test_dataset_sources_L.texts.values)})\n",
    "#binned_cal_curve = cal.generate_calibration_curve_binned(df_test, num_bin = 10, binary = True)\n",
    "#binned_cal_curve.plot(show_diagonal=True, filled = False)"
   ]
  },
  {
   "cell_type": "code",
   "execution_count": 51,
   "id": "bf41e7a5-0fba-4701-b71d-464f882ac40f",
   "metadata": {},
   "outputs": [],
   "source": [
    "#platt_cal_curve = cal.generate_calibration_curve_platt(df_test, binary = True)\n",
    "#platt_cal_curve.plot(show_diagonal=True, filled = False)"
   ]
  },
  {
   "cell_type": "markdown",
   "id": "a567f097-0678-4c4b-9108-0cfa616df266",
   "metadata": {},
   "source": [
    "## Compute performance results"
   ]
  },
  {
   "cell_type": "code",
   "execution_count": 55,
   "id": "9306291d-3553-43a1-b26b-c8f12aeb5afc",
   "metadata": {},
   "outputs": [],
   "source": [
    "# calculate metrics\n",
    "\n",
    "#acc = accuracy_score(all_labels, preds)\n",
    "#bal = balanced_accuracy_score(all_labels,preds)\n",
    "#auc = roc_auc_score(all_labels,probs[:,1])\n"
   ]
  },
  {
   "cell_type": "code",
   "execution_count": 53,
   "id": "0ce8e4de-1424-4b60-b0bc-3545a39e5cc7",
   "metadata": {},
   "outputs": [],
   "source": [
    "(all_logits_P, all_labels_P, probs_P, preds_P) = apply_model_to_data_set(model_P, test_dataloader_sources_P)\n",
    "(all_logits_L, all_labels_L, probs_L, preds_L) = apply_model_to_data_set(model_L, test_dataloader_sources_L)\n",
    "(all_logits_S, all_labels_S, probs_S, preds_S) = apply_model_to_data_set(model_S, test_dataloader_sources_S)\n",
    "(all_logits_O, all_labels_O, probs_O, preds_O) = apply_model_to_data_set(model_O, test_dataloader_sources_O)"
   ]
  },
  {
   "cell_type": "code",
   "execution_count": 61,
   "id": "fdded334-7d14-4f98-8060-2b8a5c699bfd",
   "metadata": {},
   "outputs": [],
   "source": [
    "sources_performance = pd.DataFrame({\"Code\":[\"P\",\"L\",\"S\",\"O\"], \n",
    "                                        \"labels\":[all_labels_P,all_labels_L,all_labels_S,all_labels_O],\n",
    "                                        \"preds\":[preds_P,preds_L,preds_S,preds_O],\n",
    "                                        \"probs\":[probs_P[:,1],probs_L[:,1],probs_S[:,1],probs_O[:,1]]\n",
    "                                       })\n",
    "\n",
    "sources_performance[\"Accuracy\"] = sources_performance.apply(lambda row: accuracy_score(row[\"labels\"],row[\"preds\"]), axis = 1)\n",
    "sources_performance[\"Balanced accuracy\"] = sources_performance.apply(lambda row: balanced_accuracy_score(row[\"labels\"],row[\"preds\"]), axis = 1)\n",
    "sources_performance[\"AUC\"] = sources_performance.apply(lambda row: roc_auc_score(row[\"labels\"],row[\"probs\"]), axis = 1)\n",
    "sources_performance = sources_performance.drop([\"labels\",\"preds\",\"probs\"], axis = 1)"
   ]
  },
  {
   "cell_type": "code",
   "execution_count": 72,
   "id": "99672c53-0f46-4f89-9648-c844d4235381",
   "metadata": {},
   "outputs": [
    {
     "data": {
      "text/html": [
       "<div>\n",
       "<style scoped>\n",
       "    .dataframe tbody tr th:only-of-type {\n",
       "        vertical-align: middle;\n",
       "    }\n",
       "\n",
       "    .dataframe tbody tr th {\n",
       "        vertical-align: top;\n",
       "    }\n",
       "\n",
       "    .dataframe thead th {\n",
       "        text-align: right;\n",
       "    }\n",
       "</style>\n",
       "<table border=\"1\" class=\"dataframe\">\n",
       "  <thead>\n",
       "    <tr style=\"text-align: right;\">\n",
       "      <th></th>\n",
       "      <th>Code</th>\n",
       "      <th>Accuracy</th>\n",
       "      <th>Balanced accuracy</th>\n",
       "      <th>AUC</th>\n",
       "    </tr>\n",
       "  </thead>\n",
       "  <tbody>\n",
       "    <tr>\n",
       "      <th>0</th>\n",
       "      <td>P</td>\n",
       "      <td>0.97</td>\n",
       "      <td>0.88</td>\n",
       "      <td>0.98</td>\n",
       "    </tr>\n",
       "    <tr>\n",
       "      <th>1</th>\n",
       "      <td>L</td>\n",
       "      <td>0.93</td>\n",
       "      <td>0.90</td>\n",
       "      <td>0.97</td>\n",
       "    </tr>\n",
       "    <tr>\n",
       "      <th>2</th>\n",
       "      <td>S</td>\n",
       "      <td>0.98</td>\n",
       "      <td>0.89</td>\n",
       "      <td>0.95</td>\n",
       "    </tr>\n",
       "    <tr>\n",
       "      <th>3</th>\n",
       "      <td>O</td>\n",
       "      <td>0.92</td>\n",
       "      <td>0.84</td>\n",
       "      <td>0.92</td>\n",
       "    </tr>\n",
       "  </tbody>\n",
       "</table>\n",
       "</div>"
      ],
      "text/plain": [
       "  Code  Accuracy  Balanced accuracy   AUC\n",
       "0    P      0.97               0.88  0.98\n",
       "1    L      0.93               0.90  0.97\n",
       "2    S      0.98               0.89  0.95\n",
       "3    O      0.92               0.84  0.92"
      ]
     },
     "execution_count": 72,
     "metadata": {},
     "output_type": "execute_result"
    }
   ],
   "source": [
    "sources_performance.round(2)"
   ]
  },
  {
   "cell_type": "code",
   "execution_count": 63,
   "id": "85268505-d570-4f34-bc4a-9643aa150646",
   "metadata": {},
   "outputs": [],
   "source": [
    "(all_logits_P, all_labels_P, probs_P, preds_P) = apply_model_to_data_set(model_P, test_dataloader_morebetter_P)\n",
    "(all_logits_L, all_labels_L, probs_L, preds_L) = apply_model_to_data_set(model_L, test_dataloader_morebetter_L)\n",
    "(all_logits_S, all_labels_S, probs_S, preds_S) = apply_model_to_data_set(model_S, test_dataloader_morebetter_S)\n",
    "(all_logits_O, all_labels_O, probs_O, preds_O) = apply_model_to_data_set(model_O, test_dataloader_morebetter_O)"
   ]
  },
  {
   "cell_type": "code",
   "execution_count": 64,
   "id": "3f67f8d3-0b17-4cf2-91e2-f773e7d87230",
   "metadata": {},
   "outputs": [],
   "source": [
    "morebetter_performance = pd.DataFrame({\"Code\":[\"P\",\"L\",\"S\",\"O\"], \n",
    "                                        \"labels\":[all_labels_P,all_labels_L,all_labels_S,all_labels_O],\n",
    "                                        \"preds\":[preds_P,preds_L,preds_S,preds_O],\n",
    "                                        \"probs\":[probs_P[:,1],probs_L[:,1],probs_S[:,1],probs_O[:,1]]\n",
    "                                       })\n",
    "\n",
    "morebetter_performance[\"Accuracy\"] = morebetter_performance.apply(lambda row: accuracy_score(row[\"labels\"],row[\"preds\"]), axis = 1)\n",
    "morebetter_performance[\"Balanced accuracy\"] = morebetter_performance.apply(lambda row: balanced_accuracy_score(row[\"labels\"],row[\"preds\"]), axis = 1)\n",
    "morebetter_performance[\"AUC\"] = morebetter_performance.apply(lambda row: roc_auc_score(row[\"labels\"],row[\"probs\"]), axis = 1)\n",
    "morebetter_performance = morebetter_performance.drop([\"labels\",\"preds\",\"probs\"], axis = 1)"
   ]
  },
  {
   "cell_type": "code",
   "execution_count": 71,
   "id": "b816eb5a-c084-4992-8569-862069dca018",
   "metadata": {},
   "outputs": [
    {
     "data": {
      "text/html": [
       "<div>\n",
       "<style scoped>\n",
       "    .dataframe tbody tr th:only-of-type {\n",
       "        vertical-align: middle;\n",
       "    }\n",
       "\n",
       "    .dataframe tbody tr th {\n",
       "        vertical-align: top;\n",
       "    }\n",
       "\n",
       "    .dataframe thead th {\n",
       "        text-align: right;\n",
       "    }\n",
       "</style>\n",
       "<table border=\"1\" class=\"dataframe\">\n",
       "  <thead>\n",
       "    <tr style=\"text-align: right;\">\n",
       "      <th></th>\n",
       "      <th>Code</th>\n",
       "      <th>Accuracy</th>\n",
       "      <th>Balanced accuracy</th>\n",
       "      <th>AUC</th>\n",
       "    </tr>\n",
       "  </thead>\n",
       "  <tbody>\n",
       "    <tr>\n",
       "      <th>0</th>\n",
       "      <td>P</td>\n",
       "      <td>0.92</td>\n",
       "      <td>0.68</td>\n",
       "      <td>0.79</td>\n",
       "    </tr>\n",
       "    <tr>\n",
       "      <th>1</th>\n",
       "      <td>L</td>\n",
       "      <td>0.84</td>\n",
       "      <td>0.84</td>\n",
       "      <td>0.91</td>\n",
       "    </tr>\n",
       "    <tr>\n",
       "      <th>2</th>\n",
       "      <td>S</td>\n",
       "      <td>0.80</td>\n",
       "      <td>0.77</td>\n",
       "      <td>0.85</td>\n",
       "    </tr>\n",
       "    <tr>\n",
       "      <th>3</th>\n",
       "      <td>O</td>\n",
       "      <td>0.79</td>\n",
       "      <td>0.59</td>\n",
       "      <td>0.54</td>\n",
       "    </tr>\n",
       "  </tbody>\n",
       "</table>\n",
       "</div>"
      ],
      "text/plain": [
       "  Code  Accuracy  Balanced accuracy   AUC\n",
       "0    P      0.92               0.68  0.79\n",
       "1    L      0.84               0.84  0.91\n",
       "2    S      0.80               0.77  0.85\n",
       "3    O      0.79               0.59  0.54"
      ]
     },
     "execution_count": 71,
     "metadata": {},
     "output_type": "execute_result"
    }
   ],
   "source": [
    "morebetter_performance.round(2)"
   ]
  },
  {
   "cell_type": "code",
   "execution_count": 66,
   "id": "05fd9697-f8ae-4202-b2c7-e0f691aad798",
   "metadata": {},
   "outputs": [],
   "source": [
    "(all_logits_P, all_labels_P, probs_P, preds_P) = apply_model_to_data_set(model_P, test_dataloader_generic_P)\n",
    "(all_logits_L, all_labels_L, probs_L, preds_L) = apply_model_to_data_set(model_L, test_dataloader_generic_L)\n",
    "(all_logits_S, all_labels_S, probs_S, preds_S) = apply_model_to_data_set(model_S, test_dataloader_generic_S)\n",
    "(all_logits_O, all_labels_O, probs_O, preds_O) = apply_model_to_data_set(model_O, test_dataloader_generic_O)"
   ]
  },
  {
   "cell_type": "code",
   "execution_count": 67,
   "id": "f56b7a26-a621-4ac9-b2f0-0965e93c33bb",
   "metadata": {},
   "outputs": [],
   "source": [
    "generic_performance = pd.DataFrame({\"Code\":[\"P\",\"L\",\"S\",\"O\"], \n",
    "                                        \"labels\":[all_labels_P,all_labels_L,all_labels_S,all_labels_O],\n",
    "                                        \"preds\":[preds_P,preds_L,preds_S,preds_O],\n",
    "                                        \"probs\":[probs_P[:,1],probs_L[:,1],probs_S[:,1],probs_O[:,1]]\n",
    "                                       })\n",
    "\n",
    "generic_performance[\"Accuracy\"] = generic_performance.apply(lambda row: accuracy_score(row[\"labels\"],row[\"preds\"]), axis = 1)\n",
    "generic_performance[\"Balanced accuracy\"] = generic_performance.apply(lambda row: balanced_accuracy_score(row[\"labels\"],row[\"preds\"]), axis = 1)\n",
    "generic_performance[\"AUC\"] = generic_performance.apply(lambda row: roc_auc_score(row[\"labels\"],row[\"probs\"]), axis = 1)\n",
    "generic_performance = generic_performance.drop([\"labels\",\"preds\",\"probs\"], axis = 1)"
   ]
  },
  {
   "cell_type": "code",
   "execution_count": 70,
   "id": "60d6c509-8da7-47ac-b5e2-ed104d57d969",
   "metadata": {},
   "outputs": [
    {
     "data": {
      "text/html": [
       "<div>\n",
       "<style scoped>\n",
       "    .dataframe tbody tr th:only-of-type {\n",
       "        vertical-align: middle;\n",
       "    }\n",
       "\n",
       "    .dataframe tbody tr th {\n",
       "        vertical-align: top;\n",
       "    }\n",
       "\n",
       "    .dataframe thead th {\n",
       "        text-align: right;\n",
       "    }\n",
       "</style>\n",
       "<table border=\"1\" class=\"dataframe\">\n",
       "  <thead>\n",
       "    <tr style=\"text-align: right;\">\n",
       "      <th></th>\n",
       "      <th>Code</th>\n",
       "      <th>Accuracy</th>\n",
       "      <th>Balanced accuracy</th>\n",
       "      <th>AUC</th>\n",
       "    </tr>\n",
       "  </thead>\n",
       "  <tbody>\n",
       "    <tr>\n",
       "      <th>0</th>\n",
       "      <td>P</td>\n",
       "      <td>0.93</td>\n",
       "      <td>0.93</td>\n",
       "      <td>0.98</td>\n",
       "    </tr>\n",
       "    <tr>\n",
       "      <th>1</th>\n",
       "      <td>L</td>\n",
       "      <td>0.79</td>\n",
       "      <td>0.79</td>\n",
       "      <td>0.91</td>\n",
       "    </tr>\n",
       "    <tr>\n",
       "      <th>2</th>\n",
       "      <td>S</td>\n",
       "      <td>0.98</td>\n",
       "      <td>0.50</td>\n",
       "      <td>0.64</td>\n",
       "    </tr>\n",
       "    <tr>\n",
       "      <th>3</th>\n",
       "      <td>O</td>\n",
       "      <td>0.74</td>\n",
       "      <td>0.74</td>\n",
       "      <td>0.77</td>\n",
       "    </tr>\n",
       "  </tbody>\n",
       "</table>\n",
       "</div>"
      ],
      "text/plain": [
       "  Code  Accuracy  Balanced accuracy   AUC\n",
       "0    P      0.93               0.93  0.98\n",
       "1    L      0.79               0.79  0.91\n",
       "2    S      0.98               0.50  0.64\n",
       "3    O      0.74               0.74  0.77"
      ]
     },
     "execution_count": 70,
     "metadata": {},
     "output_type": "execute_result"
    }
   ],
   "source": [
    "generic_performance.round(2)"
   ]
  },
  {
   "cell_type": "code",
   "execution_count": null,
   "id": "a9cf7df4-f2b1-4ce2-96f6-db2063ae725c",
   "metadata": {},
   "outputs": [],
   "source": []
  }
 ],
 "metadata": {
  "kernelspec": {
   "display_name": "Python 3 (ipykernel)",
   "language": "python",
   "name": "python3"
  },
  "language_info": {
   "codemirror_mode": {
    "name": "ipython",
    "version": 3
   },
   "file_extension": ".py",
   "mimetype": "text/x-python",
   "name": "python",
   "nbconvert_exporter": "python",
   "pygments_lexer": "ipython3",
   "version": "3.12.9"
  }
 },
 "nbformat": 4,
 "nbformat_minor": 5
}
