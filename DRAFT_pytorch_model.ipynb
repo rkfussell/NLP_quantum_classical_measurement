{
 "cells": [
  {
   "cell_type": "code",
   "execution_count": 97,
   "id": "3d573812-ab18-4a53-bedb-60465efe7534",
   "metadata": {},
   "outputs": [],
   "source": [
    "import os\n",
    "import torch\n",
    "import torch.nn as nn\n",
    "import torch.optim as optim\n",
    "from torch.utils.data import Dataset, DataLoader\n",
    "\n",
    "from transformers import BertTokenizer\n",
    "from torch.utils.data import WeightedRandomSampler  ## TODO come back here and implement with WeightedRandomSampler\n",
    "import torch.nn as nn\n",
    "from transformers import BertModel\n",
    "from transformers import AdamW, get_linear_schedule_with_warmup\n",
    "\n",
    "import matplotlib.pyplot as plt\n",
    "import pandas as pd\n",
    "import numpy as np\n",
    "\n",
    "import torch.nn.functional as F\n",
    "import time\n",
    "\n",
    "import calibration_fns as cal\n",
    "\n",
    "from sklearn.metrics import accuracy_score, precision_score, recall_score, balanced_accuracy_score, f1_score"
   ]
  },
  {
   "cell_type": "code",
   "execution_count": 2,
   "id": "150a4523-0c8d-42e9-bd1b-73698bb55abf",
   "metadata": {},
   "outputs": [],
   "source": [
    "cwd = os.getcwd()\n",
    "data_folder = cwd + '/Data_External/'"
   ]
  },
  {
   "cell_type": "markdown",
   "id": "ccf6741c-f065-4ea5-b67f-81795682450a",
   "metadata": {},
   "source": [
    "### Step 1. Set up dataset for pytorch"
   ]
  },
  {
   "cell_type": "code",
   "execution_count": 3,
   "id": "c4824622-d0bd-425f-a3b3-3021a37ff057",
   "metadata": {},
   "outputs": [],
   "source": [
    "#train, val, test= du.getData(dataDir=dataDir, holdoutDir=holdoutDir,ValCutoff=ValCutoff)\n",
    "data = pd.read_excel(data_folder + 'sources.xlsx')\n",
    "data = data.sample(frac=1).reset_index(drop=True)\n",
    "\n",
    "data[\"Response\"] = data[\"Response\"].astype(str)\n",
    "data[\"code\"] = data[\"code\"].astype(str)\n",
    "\n",
    "train_size = int(0.7*len(data))\n",
    "val_size = int(0.15*len(data))\n",
    "train_data = data[:train_size]\n",
    "base_data = data[train_size:train_size + val_size]\n",
    "target_data = data[train_size + val_size:]"
   ]
  },
  {
   "cell_type": "code",
   "execution_count": 4,
   "id": "ff5196e4-7b31-49f3-942f-f59e00ef5196",
   "metadata": {},
   "outputs": [
    {
     "data": {
      "text/plain": [
       "2029"
      ]
     },
     "execution_count": 4,
     "metadata": {},
     "output_type": "execute_result"
    }
   ],
   "source": [
    "len(train_data)"
   ]
  },
  {
   "cell_type": "code",
   "execution_count": 5,
   "id": "aa699325-f222-4dda-ab6c-397cd3223844",
   "metadata": {},
   "outputs": [],
   "source": [
    "def get_max_len(tokenizer, train):\n",
    "    all_sent = np.array(train.Response.values)\n",
    "    # Encode data\n",
    "    encoded_sentences = [tokenizer.encode(sent, add_special_tokens=True) for sent in all_sent]\n",
    "    # Find the maximum length\n",
    "    max_len = max([len(sent) for sent in encoded_sentences])\n",
    "    return max_len"
   ]
  },
  {
   "cell_type": "code",
   "execution_count": 6,
   "id": "6625551e-1c27-4e77-bce0-bcd33eb97b2a",
   "metadata": {},
   "outputs": [],
   "source": [
    "tokenizer = BertTokenizer.from_pretrained('bert-base-uncased', do_lower_case=True)\n",
    "MAX_LEN = get_max_len(tokenizer, train_data) "
   ]
  },
  {
   "cell_type": "code",
   "execution_count": 7,
   "id": "2fd33fdc-9016-42a9-be52-3b5bccb01d57",
   "metadata": {},
   "outputs": [
    {
     "name": "stdout",
     "output_type": "stream",
     "text": [
      "101\n"
     ]
    }
   ],
   "source": [
    "print(MAX_LEN)"
   ]
  },
  {
   "cell_type": "code",
   "execution_count": 8,
   "id": "38cc0fb4-bce8-4c53-ab10-ead576e5de51",
   "metadata": {},
   "outputs": [],
   "source": [
    "def text_preprocessing_simple(text):\n",
    "    try:\n",
    "        text = re.sub(r'\\s+', ' ', text).strip()\n",
    "    except:\n",
    "        pass\n",
    "    return text"
   ]
  },
  {
   "cell_type": "code",
   "execution_count": 9,
   "id": "427f03e9-41da-4bac-b5ad-9fe574e7b21a",
   "metadata": {},
   "outputs": [],
   "source": [
    "def preprocessing_for_bert(data, tokenizer, max_len):\n",
    "    \"\"\"Perform required preprocessing steps for pretrained BERT.\n",
    "    @param    data (np.array): Array of texts to be processed.\n",
    "    @return   input_ids (torch.Tensor): Tensor of token ids to be fed to a model.\n",
    "    @return   attention_masks (torch.Tensor): Tensor of indices specifying which\n",
    "                  tokens should be attended to by the model.\n",
    "    \"\"\"\n",
    "    # Create empty lists to store outputs\n",
    "    input_ids = []\n",
    "    attention_masks = []\n",
    "\n",
    "    # For every sentence...\n",
    "    for sent in data:\n",
    "        # `encode_plus` will:\n",
    "        #    (1) Tokenize the sentence\n",
    "        #    (2) Add the `[CLS]` and `[SEP]` token to the start and end\n",
    "        #    (3) Truncate/Pad sentence to max length\n",
    "        #    (4) Map tokens to their IDs\n",
    "        #    (5) Create attention mask\n",
    "        #    (6) Return a dictionary of outputs\n",
    "        encoded_sent = tokenizer.encode_plus(\n",
    "            text=text_preprocessing_simple(str(sent)),  # Preprocess sentence\n",
    "            add_special_tokens=True,        # Add `[CLS]` and `[SEP]`\n",
    "            max_length=max_len,                  # Max length to truncate/pad\n",
    "            pad_to_max_length=True,         # Pad sentence to max length\n",
    "            #return_tensors='pt',           # Return PyTorch tensor\n",
    "            return_attention_mask=True      # Return attention mask\n",
    "            )\n",
    "        \n",
    "        # Add the outputs to the lists\n",
    "        input_ids.append(encoded_sent.get('input_ids'))\n",
    "        attention_masks.append(encoded_sent.get('attention_mask'))\n",
    "\n",
    "    # Convert lists to tensors\n",
    "    input_ids = torch.tensor(input_ids)\n",
    "    attention_masks = torch.tensor(attention_masks)\n",
    "\n",
    "    return input_ids, attention_masks"
   ]
  },
  {
   "cell_type": "code",
   "execution_count": 10,
   "id": "4e2c059d-e65e-45c0-9c04-81491b51c931",
   "metadata": {},
   "outputs": [],
   "source": [
    "class SourcesDataset(Dataset):\n",
    "    def __init__(self, df, tokenizer, max_len):\n",
    "        self.data, self.masks = preprocessing_for_bert(df[\"Response\"], tokenizer, MAX_LEN)\n",
    "        self.text = df[\"Response\"].reset_index(drop=True)\n",
    "        labels_enc, unique_labels = pd.factorize(df[\"code\"], sort = True)\n",
    "        self.labels = torch.tensor(labels_enc, dtype = torch.long)\n",
    "    def __len__(self):\n",
    "        return len(self.data)\n",
    "    def __getitem__(self, idx):\n",
    "        sample = self.data[idx]\n",
    "        mask = self.masks[idx]\n",
    "        label = self.labels[idx]\n",
    "        return sample, mask, label"
   ]
  },
  {
   "cell_type": "code",
   "execution_count": 11,
   "id": "f19e1f75-63d9-4611-8a97-61c9028398a6",
   "metadata": {},
   "outputs": [],
   "source": [
    "labels_enc, unique_labels = pd.factorize(train_data[\"code\"], sort = True)\n",
    "target_to_class = {i:unique_labels[i] for i in range(len(unique_labels))}"
   ]
  },
  {
   "cell_type": "code",
   "execution_count": 12,
   "id": "be21d0d6-c258-48f2-b89e-1734d82cc66d",
   "metadata": {},
   "outputs": [
    {
     "data": {
      "text/plain": [
       "{0: 'L', 1: 'O', 2: 'P', 3: 'S'}"
      ]
     },
     "execution_count": 12,
     "metadata": {},
     "output_type": "execute_result"
    }
   ],
   "source": [
    "target_to_class"
   ]
  },
  {
   "cell_type": "code",
   "execution_count": 13,
   "id": "52873860-b0ca-421c-b025-6628d68f923f",
   "metadata": {},
   "outputs": [
    {
     "name": "stderr",
     "output_type": "stream",
     "text": [
      "Truncation was not explicitly activated but `max_length` is provided a specific value, please use `truncation=True` to explicitly truncate examples to max length. Defaulting to 'longest_first' truncation strategy. If you encode pairs of sequences (GLUE-style) with the tokenizer you can select this strategy more precisely by providing a specific strategy to `truncation`.\n",
      "/home/rkf33/.conda/envs/labnotes7/lib/python3.12/site-packages/transformers/tokenization_utils_base.py:2829: FutureWarning: The `pad_to_max_length` argument is deprecated and will be removed in a future version, use `padding=True` or `padding='longest'` to pad to the longest sequence in the batch, or use `padding='max_length'` to pad to a max length. In this case, you can give a specific length with `max_length` (e.g. `max_length=45`) or leave max_length to None to pad to the maximal input size of the model (e.g. 512 for Bert).\n",
      "  warnings.warn(\n",
      "/home/rkf33/.conda/envs/labnotes7/lib/python3.12/site-packages/transformers/tokenization_utils_base.py:2829: FutureWarning: The `pad_to_max_length` argument is deprecated and will be removed in a future version, use `padding=True` or `padding='longest'` to pad to the longest sequence in the batch, or use `padding='max_length'` to pad to a max length. In this case, you can give a specific length with `max_length` (e.g. `max_length=45`) or leave max_length to None to pad to the maximal input size of the model (e.g. 512 for Bert).\n",
      "  warnings.warn(\n",
      "/home/rkf33/.conda/envs/labnotes7/lib/python3.12/site-packages/transformers/tokenization_utils_base.py:2829: FutureWarning: The `pad_to_max_length` argument is deprecated and will be removed in a future version, use `padding=True` or `padding='longest'` to pad to the longest sequence in the batch, or use `padding='max_length'` to pad to a max length. In this case, you can give a specific length with `max_length` (e.g. `max_length=45`) or leave max_length to None to pad to the maximal input size of the model (e.g. 512 for Bert).\n",
      "  warnings.warn(\n"
     ]
    }
   ],
   "source": [
    "train_dataset = SourcesDataset(train_data, tokenizer, MAX_LEN)\n",
    "base_dataset = SourcesDataset(base_data, tokenizer, MAX_LEN)\n",
    "target_dataset = SourcesDataset(target_data, tokenizer, MAX_LEN)"
   ]
  },
  {
   "cell_type": "code",
   "execution_count": 14,
   "id": "c7c2e009-d995-4d92-a17a-64d2ba99b95f",
   "metadata": {},
   "outputs": [
    {
     "data": {
      "text/plain": [
       "2029"
      ]
     },
     "execution_count": 14,
     "metadata": {},
     "output_type": "execute_result"
    }
   ],
   "source": [
    "len(train_dataset)"
   ]
  },
  {
   "cell_type": "code",
   "execution_count": 15,
   "id": "934801b2-4bfb-4548-b278-2e02ad48caa0",
   "metadata": {},
   "outputs": [
    {
     "data": {
      "text/plain": [
       "(tensor([  101,  2070,  2493,  2071,  2031,  2367,  4781,  2005,  9854,  1006,\n",
       "          1045,  1012,  1041,  1012,  2028,  2493,  4455,  1037,  2765,  1999,\n",
       "          2090,  2048, 11702,  2011, 26939,  2091,  2096,  2178,  6241,  2039,\n",
       "          1007,   102,     0,     0,     0,     0,     0,     0,     0,     0,\n",
       "             0,     0,     0,     0,     0,     0,     0,     0,     0,     0,\n",
       "             0,     0,     0,     0,     0,     0,     0,     0,     0,     0,\n",
       "             0,     0,     0,     0,     0,     0,     0,     0,     0,     0,\n",
       "             0,     0,     0,     0,     0,     0,     0,     0,     0,     0,\n",
       "             0,     0,     0,     0,     0,     0,     0,     0,     0,     0,\n",
       "             0,     0,     0,     0,     0,     0,     0,     0,     0,     0,\n",
       "             0]),\n",
       " tensor([1, 1, 1, 1, 1, 1, 1, 1, 1, 1, 1, 1, 1, 1, 1, 1, 1, 1, 1, 1, 1, 1, 1, 1,\n",
       "         1, 1, 1, 1, 1, 1, 1, 1, 0, 0, 0, 0, 0, 0, 0, 0, 0, 0, 0, 0, 0, 0, 0, 0,\n",
       "         0, 0, 0, 0, 0, 0, 0, 0, 0, 0, 0, 0, 0, 0, 0, 0, 0, 0, 0, 0, 0, 0, 0, 0,\n",
       "         0, 0, 0, 0, 0, 0, 0, 0, 0, 0, 0, 0, 0, 0, 0, 0, 0, 0, 0, 0, 0, 0, 0, 0,\n",
       "         0, 0, 0, 0, 0]),\n",
       " tensor(0))"
      ]
     },
     "execution_count": 15,
     "metadata": {},
     "output_type": "execute_result"
    }
   ],
   "source": [
    "train_dataset[2]"
   ]
  },
  {
   "cell_type": "code",
   "execution_count": 16,
   "id": "ee235eaf-a2e3-4887-a275-cf043859b7ca",
   "metadata": {},
   "outputs": [],
   "source": [
    "for data, mask, label in train_dataset:\n",
    "    break"
   ]
  },
  {
   "cell_type": "code",
   "execution_count": 17,
   "id": "b21649a3-1978-4e72-b88c-db8def5876f2",
   "metadata": {},
   "outputs": [],
   "source": [
    "class_counts = train_data.code.value_counts()"
   ]
  },
  {
   "cell_type": "code",
   "execution_count": 18,
   "id": "62809b40-ffb4-4df4-9d1f-9910aae7ba16",
   "metadata": {},
   "outputs": [
    {
     "name": "stderr",
     "output_type": "stream",
     "text": [
      "/tmp/ipykernel_268672/3474696145.py:3: FutureWarning: Series.__getitem__ treating keys as positions is deprecated. In a future version, integer keys will always be treated as labels (consistent with DataFrame behavior). To access a value by position, use `ser.iloc[pos]`\n",
      "  class_weights[1] = class_weights[1] / 4 # underweight \"other\"\n",
      "/tmp/ipykernel_268672/3474696145.py:3: FutureWarning: Series.__setitem__ treating keys as positions is deprecated. In a future version, integer keys will always be treated as labels (consistent with DataFrame behavior). To set a value by position, use `ser.iloc[pos] = value`\n",
      "  class_weights[1] = class_weights[1] / 4 # underweight \"other\"\n",
      "/tmp/ipykernel_268672/3474696145.py:5: FutureWarning: Series.__getitem__ treating keys as positions is deprecated. In a future version, integer keys will always be treated as labels (consistent with DataFrame behavior). To access a value by position, use `ser.iloc[pos]`\n",
      "  class_weights = torch.tensor(class_weights, dtype=torch.float)\n"
     ]
    }
   ],
   "source": [
    "#sample_weights = [1.0 / class_counts[i] for i in train_data.code.values]\n",
    "class_weights = 1.0 / class_counts\n",
    "class_weights[1] = class_weights[1] / 4 # underweight \"other\"\n",
    "sample_weights = [class_weights[i] for i in train_data.code.values]\n",
    "class_weights = torch.tensor(class_weights, dtype=torch.float)\n",
    "\n",
    "train_sampler=WeightedRandomSampler(sample_weights,len(train_dataset), replacement=True)\n",
    "\n",
    "train_dataloader = DataLoader(train_dataset, batch_size = 16, sampler = train_sampler)\n",
    "base_dataloader = DataLoader(base_dataset, batch_size = 16) \n",
    "target_dataloader = DataLoader(target_dataset, batch_size = 16) "
   ]
  },
  {
   "cell_type": "code",
   "execution_count": 19,
   "id": "7046292f-4b2e-48b8-9ab9-c58840a183e7",
   "metadata": {},
   "outputs": [
    {
     "data": {
      "text/plain": [
       "code\n",
       "L    1559\n",
       "O     286\n",
       "P     117\n",
       "S      67\n",
       "Name: count, dtype: int64"
      ]
     },
     "execution_count": 19,
     "metadata": {},
     "output_type": "execute_result"
    }
   ],
   "source": [
    "class_counts"
   ]
  },
  {
   "cell_type": "code",
   "execution_count": 20,
   "id": "afcffdc4-1afa-40b2-ac93-6b6f970a35db",
   "metadata": {},
   "outputs": [],
   "source": [
    "for sents, masks, labels in train_dataloader:\n",
    "    break"
   ]
  },
  {
   "cell_type": "code",
   "execution_count": 21,
   "id": "e0eac15d-c8ec-44ca-ae97-7c72d79c1880",
   "metadata": {},
   "outputs": [
    {
     "data": {
      "text/plain": [
       "tensor([0, 3, 3, 0, 3, 3, 2, 0, 0, 0, 2, 3, 0, 2, 0, 3])"
      ]
     },
     "execution_count": 21,
     "metadata": {},
     "output_type": "execute_result"
    }
   ],
   "source": [
    "sents.shape\n",
    "masks.shape\n",
    "labels"
   ]
  },
  {
   "cell_type": "markdown",
   "id": "797f8d52-de3b-40f2-90b2-b33b9b288d3b",
   "metadata": {},
   "source": [
    "### Step 2. Set up Pytorch Model"
   ]
  },
  {
   "cell_type": "code",
   "execution_count": 22,
   "id": "c7d37605-a89f-4772-b3a2-5c41def5305b",
   "metadata": {},
   "outputs": [],
   "source": [
    "class SourcesClassifier(nn.Module):\n",
    "    def __init__(self, num_classes=4, freeze_bert = False):\n",
    "        #Where we define all the parts of the model\n",
    "        super(SourcesClassifier, self).__init__()  # initialize object with everything from the parent class\n",
    "        # Specify hidden size of BERT, hidden size of our classifier, and number of labels\n",
    "        D_in, H, D_out = 768, 200, num_classes\n",
    "        # Instantiate BERT model\n",
    "        self.bert = BertModel.from_pretrained('bert-base-uncased')\n",
    "        # Instantiate an one-layer feed-forward classifier\n",
    "        self.classifier = nn.Sequential(\n",
    "            nn.Linear(D_in, H),\n",
    "            nn.ReLU(),\n",
    "            #nn.Dropout(0.5),\n",
    "            nn.Linear(H, D_out)\n",
    "        )\n",
    "        # Freeze the BERT model\n",
    "        if freeze_bert:\n",
    "            for param in self.bert.parameters():\n",
    "                param.requires_grad = False\n",
    "    def forward(self, input_ids, attention_mask):\n",
    "        # Connect these parts and return the output\n",
    "        # Feed input to BERT\n",
    "        outputs = self.bert(input_ids=input_ids,\n",
    "                            attention_mask=attention_mask)\n",
    "        # Extract the last hidden state of the token `[CLS]` for classification task\n",
    "        last_hidden_state_cls = outputs[0][:, 0, :]\n",
    "        # Feed input to classifier to compute logits\n",
    "        logits = self.classifier(last_hidden_state_cls)\n",
    "        return logits"
   ]
  },
  {
   "cell_type": "code",
   "execution_count": 23,
   "id": "20193fc5-ac40-4f8d-a2e5-4e770a789af4",
   "metadata": {},
   "outputs": [
    {
     "name": "stdout",
     "output_type": "stream",
     "text": [
      "SourcesClassifier(\n",
      "  (bert): BertModel(\n",
      "    (embeddings): BertEmbeddings(\n",
      "      (word_embeddings): Embedding(30522, 768, padding_idx=0)\n",
      "      (position_embeddings): Embedding(512, 768)\n",
      "      (token_type_embeddings): Embedding(2, 768)\n",
      "      (LayerNorm): LayerNorm((768,), eps=1e-12, elementwise_affine=True)\n",
      "      (dropout): Dropout(p=0.1, inplace=False)\n",
      "    )\n",
      "    (encoder): BertEncoder(\n",
      "      (layer): ModuleList(\n",
      "        (0-11): 12 x BertLayer(\n",
      "          (attention): BertAttention(\n",
      "            (self): BertSdpaSelfAttention(\n",
      "              (query): Linear(in_features=768, out_features=768, bias=True)\n",
      "              (key): Linear(in_features=768, out_features=768, bias=True)\n",
      "              (value): Linear(in_features=768, out_features=768, bias=True)\n",
      "              (dropout): Dropout(p=0.1, inplace=False)\n",
      "            )\n",
      "            (output): BertSelfOutput(\n",
      "              (dense): Linear(in_features=768, out_features=768, bias=True)\n",
      "              (LayerNorm): LayerNorm((768,), eps=1e-12, elementwise_affine=True)\n",
      "              (dropout): Dropout(p=0.1, inplace=False)\n",
      "            )\n",
      "          )\n",
      "          (intermediate): BertIntermediate(\n",
      "            (dense): Linear(in_features=768, out_features=3072, bias=True)\n",
      "            (intermediate_act_fn): GELUActivation()\n",
      "          )\n",
      "          (output): BertOutput(\n",
      "            (dense): Linear(in_features=3072, out_features=768, bias=True)\n",
      "            (LayerNorm): LayerNorm((768,), eps=1e-12, elementwise_affine=True)\n",
      "            (dropout): Dropout(p=0.1, inplace=False)\n",
      "          )\n",
      "        )\n",
      "      )\n",
      "    )\n",
      "    (pooler): BertPooler(\n",
      "      (dense): Linear(in_features=768, out_features=768, bias=True)\n",
      "      (activation): Tanh()\n",
      "    )\n",
      "  )\n",
      "  (classifier): Sequential(\n",
      "    (0): Linear(in_features=768, out_features=200, bias=True)\n",
      "    (1): ReLU()\n",
      "    (2): Linear(in_features=200, out_features=4, bias=True)\n",
      "  )\n",
      ")\n"
     ]
    }
   ],
   "source": [
    "model = SourcesClassifier(num_classes = 4)\n",
    "print(model)"
   ]
  },
  {
   "cell_type": "code",
   "execution_count": 24,
   "id": "3155d3b5-bd08-456b-ae7d-41eba04b163e",
   "metadata": {},
   "outputs": [],
   "source": [
    "example_out = model(sents, masks)"
   ]
  },
  {
   "cell_type": "code",
   "execution_count": 25,
   "id": "4ca746a4-70e1-46b3-a69b-77a9f2ecad46",
   "metadata": {},
   "outputs": [
    {
     "data": {
      "text/plain": [
       "torch.Size([16, 4])"
      ]
     },
     "execution_count": 25,
     "metadata": {},
     "output_type": "execute_result"
    }
   ],
   "source": [
    "example_out.shape #batch size, num_classes"
   ]
  },
  {
   "cell_type": "code",
   "execution_count": 26,
   "id": "61f0ed0f-3265-4ac8-a3e4-1e174268cb07",
   "metadata": {},
   "outputs": [
    {
     "data": {
      "text/plain": [
       "tensor([[-0.2821,  0.0272,  0.0481,  0.0045],\n",
       "        [-0.3086,  0.0218,  0.0325,  0.0115],\n",
       "        [-0.2296, -0.0017, -0.0285, -0.0651],\n",
       "        [-0.2282,  0.0026, -0.0115, -0.0044],\n",
       "        [-0.2742,  0.0450,  0.0783, -0.1086],\n",
       "        [-0.2557,  0.0645,  0.0073, -0.0371],\n",
       "        [-0.2895,  0.1354,  0.0804, -0.0641],\n",
       "        [-0.3101,  0.1319,  0.0425, -0.0096],\n",
       "        [-0.2513,  0.0317,  0.0446,  0.1071],\n",
       "        [-0.2384,  0.0637,  0.0586, -0.0371],\n",
       "        [-0.2666,  0.2010, -0.0441,  0.1369],\n",
       "        [-0.2742,  0.0450,  0.0783, -0.1086],\n",
       "        [-0.2699,  0.1096,  0.0022,  0.0042],\n",
       "        [-0.2480,  0.2608,  0.0224,  0.1369],\n",
       "        [-0.2148,  0.1166,  0.0008, -0.0189],\n",
       "        [-0.2353,  0.1287, -0.0269, -0.0179]], grad_fn=<AddmmBackward0>)"
      ]
     },
     "execution_count": 26,
     "metadata": {},
     "output_type": "execute_result"
    }
   ],
   "source": [
    "example_out"
   ]
  },
  {
   "cell_type": "markdown",
   "id": "d342bab5-6e8a-4186-979b-d96fa783b2a1",
   "metadata": {},
   "source": [
    "### Step 3. The training loop"
   ]
  },
  {
   "cell_type": "code",
   "execution_count": 27,
   "id": "acef84e5-c648-4254-8ce7-4d42aa40b94e",
   "metadata": {},
   "outputs": [
    {
     "name": "stdout",
     "output_type": "stream",
     "text": [
      "cuda:0\n"
     ]
    }
   ],
   "source": [
    "device = torch.device(\"cuda:0\" if torch.cuda.is_available()  else \"cpu\")\n",
    "print(device)"
   ]
  },
  {
   "cell_type": "code",
   "execution_count": 28,
   "id": "7f38979e-ae58-46de-b089-892f0a504937",
   "metadata": {},
   "outputs": [],
   "source": [
    "# Loss function\n",
    "criterion = nn.CrossEntropyLoss(weight=class_weights)"
   ]
  },
  {
   "cell_type": "code",
   "execution_count": 29,
   "id": "4d69f394-a0ef-42de-b78a-83354263bc70",
   "metadata": {},
   "outputs": [
    {
     "data": {
      "text/plain": [
       "tensor(1.3961, grad_fn=<NllLossBackward0>)"
      ]
     },
     "execution_count": 29,
     "metadata": {},
     "output_type": "execute_result"
    }
   ],
   "source": [
    "criterion(example_out, labels) # check that the loss function calculates. It won't be any good yet because we haven't done training"
   ]
  },
  {
   "cell_type": "code",
   "execution_count": 30,
   "id": "bd370686-4cd9-4771-92f0-fe3e0d4eefaa",
   "metadata": {},
   "outputs": [
    {
     "data": {
      "text/plain": [
       "tensor([0, 3, 3, 0, 3, 3, 2, 0, 0, 0, 2, 3, 0, 2, 0, 3])"
      ]
     },
     "execution_count": 30,
     "metadata": {},
     "output_type": "execute_result"
    }
   ],
   "source": [
    "labels"
   ]
  },
  {
   "cell_type": "code",
   "execution_count": 31,
   "id": "017b8966-ebf2-4fd6-9e3e-040c22cf49da",
   "metadata": {},
   "outputs": [],
   "source": [
    "for param in model.bert.pooler.parameters():\n",
    "    param.requires_grad = True"
   ]
  },
  {
   "cell_type": "code",
   "execution_count": 32,
   "id": "7a6d42be-9583-4cee-850d-116a302e16ef",
   "metadata": {},
   "outputs": [],
   "source": [
    "for module in model.modules():\n",
    "    if isinstance(module, torch.nn.LayerNorm):\n",
    "        module.eval()  # Set LayerNorm to eval mode"
   ]
  },
  {
   "cell_type": "code",
   "execution_count": 33,
   "id": "1e2b3dde-1454-4225-a05f-83127522108a",
   "metadata": {},
   "outputs": [
    {
     "name": "stdout",
     "output_type": "stream",
     "text": [
      " Epoch  |  Batch  |  Train Loss  |  Val Loss  |  Val Acc  |  Elapsed \n",
      "----------------------------------------------------------------------\n",
      "   1    |   20    |   1.192362   |     -      |     -     |   2.95   \n",
      "   1    |   40    |   0.998192   |     -      |     -     |   4.41   \n",
      "   1    |   60    |   0.856148   |     -      |     -     |   5.88   \n",
      "   1    |   80    |   0.735145   |     -      |     -     |   7.34   \n",
      "   1    |   100   |   0.637937   |     -      |     -     |   8.81   \n",
      "   1    |   120   |   0.562152   |     -      |     -     |   10.28  \n",
      "   1    |   126   |   0.541549   |     -      |     -     |   10.71  \n",
      "----------------------------------------------------------------------\n",
      "   1    |    -    |   0.542120   |  0.665254  |   64.96   |   11.29  \n",
      " Epoch  |  Batch  |  Train Loss  |  Val Loss  |  Val Acc  |  Elapsed \n",
      "----------------------------------------------------------------------\n",
      "   2    |   20    |   0.109700   |     -      |     -     |   1.56   \n",
      "   2    |   40    |   0.099804   |     -      |     -     |   3.27   \n",
      "   2    |   60    |   0.099120   |     -      |     -     |   4.75   \n",
      "   2    |   80    |   0.091905   |     -      |     -     |   6.22   \n",
      "   2    |   100   |   0.085434   |     -      |     -     |   7.70   \n",
      "   2    |   120   |   0.079441   |     -      |     -     |   9.18   \n",
      "   2    |   126   |   0.077504   |     -      |     -     |   9.61   \n",
      "----------------------------------------------------------------------\n",
      "   2    |    -    |   0.077591   |  0.421668  |   83.48   |   10.19  \n",
      " Epoch  |  Batch  |  Train Loss  |  Val Loss  |  Val Acc  |  Elapsed \n",
      "----------------------------------------------------------------------\n",
      "   3    |   20    |   0.041145   |     -      |     -     |   1.57   \n",
      "   3    |   40    |   0.041226   |     -      |     -     |   3.04   \n",
      "   3    |   60    |   0.041731   |     -      |     -     |   4.52   \n",
      "   3    |   80    |   0.044874   |     -      |     -     |   6.00   \n",
      "   3    |   100   |   0.042219   |     -      |     -     |   7.47   \n",
      "   3    |   120   |   0.042254   |     -      |     -     |   8.94   \n",
      "   3    |   126   |   0.041961   |     -      |     -     |   9.37   \n",
      "----------------------------------------------------------------------\n",
      "   3    |    -    |   0.041980   |  0.378237  |   86.16   |   9.95   \n",
      " Epoch  |  Batch  |  Train Loss  |  Val Loss  |  Val Acc  |  Elapsed \n",
      "----------------------------------------------------------------------\n",
      "   4    |   20    |   0.036010   |     -      |     -     |   1.55   \n",
      "   4    |   40    |   0.031807   |     -      |     -     |   3.02   \n",
      "   4    |   60    |   0.030266   |     -      |     -     |   4.49   \n",
      "   4    |   80    |   0.029818   |     -      |     -     |   5.96   \n",
      "   4    |   100   |   0.029740   |     -      |     -     |   7.44   \n",
      "   4    |   120   |   0.029380   |     -      |     -     |   8.91   \n",
      "   4    |   126   |   0.029281   |     -      |     -     |   9.35   \n",
      "----------------------------------------------------------------------\n",
      "   4    |    -    |   0.029306   |  0.471538  |   86.61   |   9.93   \n",
      " Epoch  |  Batch  |  Train Loss  |  Val Loss  |  Val Acc  |  Elapsed \n",
      "----------------------------------------------------------------------\n",
      "   5    |   20    |   0.020400   |     -      |     -     |   1.57   \n",
      "   5    |   40    |   0.025707   |     -      |     -     |   3.05   \n",
      "   5    |   60    |   0.024404   |     -      |     -     |   4.53   \n",
      "   5    |   80    |   0.023880   |     -      |     -     |   6.02   \n",
      "   5    |   100   |   0.023996   |     -      |     -     |   7.50   \n",
      "   5    |   120   |   0.023110   |     -      |     -     |   8.98   \n",
      "   5    |   126   |   0.023220   |     -      |     -     |   9.42   \n",
      "----------------------------------------------------------------------\n",
      "   5    |    -    |   0.023122   |  0.452578  |   87.05   |   10.01  \n",
      " Epoch  |  Batch  |  Train Loss  |  Val Loss  |  Val Acc  |  Elapsed \n",
      "----------------------------------------------------------------------\n",
      "   6    |   20    |   0.018699   |     -      |     -     |   1.57   \n",
      "   6    |   40    |   0.018363   |     -      |     -     |   3.04   \n",
      "   6    |   60    |   0.018370   |     -      |     -     |   4.50   \n",
      "   6    |   80    |   0.017003   |     -      |     -     |   5.97   \n",
      "   6    |   100   |   0.017775   |     -      |     -     |   7.43   \n",
      "   6    |   120   |   0.017107   |     -      |     -     |   8.90   \n",
      "   6    |   126   |   0.016807   |     -      |     -     |   9.32   \n",
      "----------------------------------------------------------------------\n",
      "   6    |    -    |   0.016822   |  0.452846  |   86.16   |   9.89   \n",
      " Epoch  |  Batch  |  Train Loss  |  Val Loss  |  Val Acc  |  Elapsed \n",
      "----------------------------------------------------------------------\n",
      "   7    |   20    |   0.017003   |     -      |     -     |   1.55   \n",
      "   7    |   40    |   0.017319   |     -      |     -     |   3.02   \n",
      "   7    |   60    |   0.017462   |     -      |     -     |   4.49   \n",
      "   7    |   80    |   0.017879   |     -      |     -     |   5.96   \n",
      "   7    |   100   |   0.018712   |     -      |     -     |   7.42   \n",
      "   7    |   120   |   0.019060   |     -      |     -     |   8.89   \n",
      "   7    |   126   |   0.019255   |     -      |     -     |   9.31   \n",
      "----------------------------------------------------------------------\n",
      "   7    |    -    |   0.019256   |  0.494160  |   86.83   |   9.88   \n"
     ]
    }
   ],
   "source": [
    "num_epochs = 7\n",
    "train_losses, val_losses = [], []\n",
    "\n",
    "\n",
    "model = SourcesClassifier(num_classes=4)\n",
    "model.to(device)\n",
    "\n",
    "total_steps = len(train_dataloader) * num_epochs # Total number of training steps\n",
    "\n",
    "optimizer = optim.Adam(model.parameters(), lr=1e-5, weight_decay = 1e-5)\n",
    "\n",
    "scheduler = get_linear_schedule_with_warmup(optimizer,\n",
    "                                                num_warmup_steps=0, # Default value\n",
    "                                                num_training_steps=total_steps)\n",
    "\n",
    "loss_fn = nn.CrossEntropyLoss(weight=class_weights.to(device))\n",
    "\n",
    "\n",
    "for epoch in range(num_epochs):\n",
    "    print(f\"{'Epoch':^7} | {'Batch':^7} | {'Train Loss':^12} | {'Val Loss':^10} | {'Val Acc':^9} | {'Elapsed':^9}\")\n",
    "    print(\"-\"*70)\n",
    "    running_loss = 0.0\n",
    "    t0_epoch, t0_batch = time.time(), time.time()\n",
    "    total_loss, batch_loss, batch_counts = 0, 0, 0 # Reset tracking variables at the beginning of each epoch\n",
    "    model.train() # Set the model to train\n",
    "    for batch_idx, (sents, masks, labels) in enumerate(train_dataloader): \n",
    "        batch_counts +=1\n",
    "        sents, masks, labels = sents.to(device), masks.to(device), labels.to(device)\n",
    "        optimizer.zero_grad() # set our optimizer to zero_grad\n",
    "        outputs = model(sents, masks) # get our outputs by calling the forward method on the images\n",
    "        loss = loss_fn(outputs, labels)\n",
    "        loss.backward() # this is where we do backpropagation on the model to update the model weights\n",
    "        torch.nn.utils.clip_grad_norm_(model.parameters(), 1.0) \n",
    "        optimizer.step()\n",
    "        scheduler.step()\n",
    "        #print(f\"Batch {batch_idx}: Loss = {loss.item()}\")\n",
    "        batch_loss += loss.item()\n",
    "        running_loss += loss.item() * sents.size(0)\n",
    "        # Print the loss values and time elapsed for every 20 batches\n",
    "        if (batch_idx % 20 == 0 and batch_idx != 0) or (batch_idx == len(train_dataloader) - 1):\n",
    "            # Calculate time elapsed for 20 batches\n",
    "            time_elapsed = time.time() - t0_batch\n",
    "            # Print training results\n",
    "            print(f\"{epoch + 1:^7} | {batch_idx:^7} | {batch_loss / batch_counts:^12.6f} | {'-':^10} | {'-':^9} | {time_elapsed:^9.2f}\")\n",
    "    batch_loss, batch_counts = 0, 0\n",
    "    t0_batch = time.time()\n",
    "    train_loss = running_loss / len(train_dataloader.dataset)\n",
    "    train_losses.append(train_loss)\n",
    "    print(\"-\"*70)\n",
    "    \n",
    "    # Validation phase\n",
    "    model.eval()\n",
    "    running_loss = 0.0\n",
    "    val_accuracy = []\n",
    "    with torch.no_grad(): #to make sure the model weights are not touched\n",
    "        for sents, masks, labels in base_dataloader:\n",
    "            sents, masks, labels = sents.to(device), masks.to(device), labels.to(device)\n",
    "            outputs = model(sents, masks)\n",
    "            loss = loss_fn(outputs, labels)\n",
    "            running_loss += loss.item() * sents.size(0)\n",
    "            # Get the predictions\n",
    "            preds = torch.argmax(outputs, dim=1).flatten()\n",
    "            # Calculate the accuracy rate\n",
    "            accuracy = (preds == labels).cpu().numpy().mean() * 100\n",
    "            val_accuracy.append(accuracy)\n",
    "            time_elapsed = time.time() - t0_epoch\n",
    "    val_loss = running_loss / len(base_dataloader.dataset)\n",
    "    val_losses.append(val_loss)\n",
    "    val_accuracy = np.mean(val_accuracy)\n",
    "\n",
    "    #Print epoch stats\n",
    "    print(f\"{epoch+1:^7} | {'-':^7} | {train_loss:^12.6f} | {val_loss:^10.6f} | {val_accuracy:^9.2f} | {time_elapsed:^9.2f}\")"
   ]
  },
  {
   "cell_type": "code",
   "execution_count": 34,
   "id": "f04a9be0-95c5-411a-9def-c2855233b2ad",
   "metadata": {},
   "outputs": [
    {
     "data": {
      "image/png": "[encoded data removed]",
      "text/plain": [
       "<Figure size 640x480 with 1 Axes>"
      ]
     },
     "metadata": {},
     "output_type": "display_data"
    }
   ],
   "source": [
    "plt.plot(train_losses, label='Training loss')\n",
    "plt.plot(val_losses, label='Validation loss')\n",
    "plt.legend()\n",
    "plt.title(\"Loss over epochs\")\n",
    "plt.show()"
   ]
  },
  {
   "cell_type": "code",
   "execution_count": 84,
   "id": "4ef62cee-5341-4c3a-911c-9c840e715562",
   "metadata": {},
   "outputs": [],
   "source": [
    "model.eval()\n",
    "model=model.to(device)\n",
    "all_logits = []\n",
    "all_labels = []\n",
    "# For each batch in our test set...\n",
    "for sents, masks, labels in base_dataloader:\n",
    "    sents, masks = sents.to(device), masks.to(device)\n",
    "    # Compute logits\n",
    "    with torch.no_grad():\n",
    "        logits = model(sents, masks)\n",
    "        all_logits.append(logits)\n",
    "        all_labels.append(labels)\n",
    "# Concatenate logits from each batch\n",
    "all_logits = torch.cat(all_logits, dim=0)\n",
    "all_labels = torch.cat(all_labels, dim = 0).cpu().numpy()\n",
    "# Apply softmax to calculate probabilities\n",
    "probs = F.softmax(all_logits, dim=1).cpu().numpy()\n",
    "preds = torch.argmax(all_logits, dim=1).flatten().cpu().numpy()\n",
    "all_logits = all_logits.cpu().numpy()"
   ]
  },
  {
   "cell_type": "code",
   "execution_count": 87,
   "id": "f18df5cf-cd30-4254-9c60-427bcc03dd07",
   "metadata": {},
   "outputs": [
    {
     "name": "stdout",
     "output_type": "stream",
     "text": [
      "L: 324\n",
      "P: 31\n",
      "S: 19\n",
      "O: 60\n"
     ]
    }
   ],
   "source": [
    "preds_LOPS = list(pd.Series(preds).map(target_to_class))\n",
    "print(\"L: \" + str(preds_LOPS.count(\"L\")))\n",
    "print(\"P: \" + str(preds_LOPS.count(\"P\")))\n",
    "print(\"S: \" + str(preds_LOPS.count(\"S\")))\n",
    "print(\"O: \" + str(preds_LOPS.count(\"O\")))"
   ]
  },
  {
   "cell_type": "code",
   "execution_count": 101,
   "id": "9306291d-3553-43a1-b26b-c8f12aeb5afc",
   "metadata": {},
   "outputs": [
    {
     "name": "stdout",
     "output_type": "stream",
     "text": [
      "0.8640552995391705\n",
      "[0.94135802 0.56666667 0.58064516 0.94736842]\n",
      "[0.9186747  0.59649123 0.7826087  0.81818182]\n",
      "0.7789891101748371\n",
      "[0.92987805 0.58119658 0.66666667 0.87804878]\n"
     ]
    }
   ],
   "source": [
    "# calculate metrics\n",
    "\n",
    "acc = accuracy_score(all_labels, preds)\n",
    "p = precision_score(all_labels, preds, average = None)\n",
    "r = recall_score(all_labels, preds, average = None)\n",
    "bal = balanced_accuracy_score(all_labels,preds)\n",
    "f1 = f1_score(all_labels,preds, average = None)\n",
    "\n",
    "print(acc)\n",
    "print(p)\n",
    "print(r)\n",
    "print(bal)\n",
    "print(f1)"
   ]
  },
  {
   "cell_type": "code",
   "execution_count": 68,
   "id": "fdded334-7d14-4f98-8060-2b8a5c699bfd",
   "metadata": {},
   "outputs": [
    {
     "name": "stdout",
     "output_type": "stream",
     "text": [
      "Base dataset: number of samples in each category\n",
      "L: 332\n",
      "P: 23\n",
      "S: 22\n",
      "O: 57\n"
     ]
    }
   ],
   "source": [
    "#calibration phase: calculate a calibration curve. along with a base classifier density, we can get the base joint density and estimate the base prevalence\n",
    "\n",
    "print(\"Base dataset: number of samples in each category\")\n",
    "base_labels =list(pd.Series(base_dataset.labels.numpy()).map(target_to_class))\n",
    "print(\"L: \" + str(base_labels.count(\"L\")))\n",
    "print(\"P: \" + str(base_labels.count(\"P\")))\n",
    "print(\"S: \" + str(base_labels.count(\"S\")))\n",
    "print(\"O: \" + str(base_labels.count(\"O\")))"
   ]
  },
  {
   "cell_type": "code",
   "execution_count": 69,
   "id": "6abe4493-96ed-4522-86b6-153068610094",
   "metadata": {},
   "outputs": [],
   "source": [
    "all_logits\n",
    "probs = F.softmax(all_logits, dim=1).cpu().numpy()"
   ]
  },
  {
   "cell_type": "code",
   "execution_count": 70,
   "id": "3f4f360c-1bb9-4293-9446-15a85158d79c",
   "metadata": {},
   "outputs": [],
   "source": [
    "df = pd.DataFrame(data = {\"probs_L\": probs[:,0], \"probs_O\": probs[:,1], \"probs_P\": probs[:,2], \"probs_S\": probs[:,3], \"gt_label\":list(pd.Series(all_labels.cpu().numpy()).map(target_to_class)), \"text\":list(base_dataset.text.values)})"
   ]
  },
  {
   "cell_type": "code",
   "execution_count": 71,
   "id": "91b7285b-eef0-43ec-9fd8-6cda972b90a9",
   "metadata": {},
   "outputs": [
    {
     "data": {
      "text/html": [
       "<div>\n",
       "<style scoped>\n",
       "    .dataframe tbody tr th:only-of-type {\n",
       "        vertical-align: middle;\n",
       "    }\n",
       "\n",
       "    .dataframe tbody tr th {\n",
       "        vertical-align: top;\n",
       "    }\n",
       "\n",
       "    .dataframe thead th {\n",
       "        text-align: right;\n",
       "    }\n",
       "</style>\n",
       "<table border=\"1\" class=\"dataframe\">\n",
       "  <thead>\n",
       "    <tr style=\"text-align: right;\">\n",
       "      <th></th>\n",
       "      <th>probs_L</th>\n",
       "      <th>probs_O</th>\n",
       "      <th>probs_P</th>\n",
       "      <th>probs_S</th>\n",
       "      <th>gt_label</th>\n",
       "      <th>text</th>\n",
       "    </tr>\n",
       "  </thead>\n",
       "  <tbody>\n",
       "    <tr>\n",
       "      <th>0</th>\n",
       "      <td>0.960235</td>\n",
       "      <td>0.022018</td>\n",
       "      <td>0.010005</td>\n",
       "      <td>0.007742</td>\n",
       "      <td>L</td>\n",
       "      <td>Human error in using a meterstick</td>\n",
       "    </tr>\n",
       "    <tr>\n",
       "      <th>1</th>\n",
       "      <td>0.960460</td>\n",
       "      <td>0.028065</td>\n",
       "      <td>0.006191</td>\n",
       "      <td>0.005283</td>\n",
       "      <td>L</td>\n",
       "      <td>angle of particle source</td>\n",
       "    </tr>\n",
       "    <tr>\n",
       "      <th>2</th>\n",
       "      <td>0.004421</td>\n",
       "      <td>0.002867</td>\n",
       "      <td>0.991475</td>\n",
       "      <td>0.001236</td>\n",
       "      <td>P</td>\n",
       "      <td>The distance from the slit to the screen</td>\n",
       "    </tr>\n",
       "    <tr>\n",
       "      <th>3</th>\n",
       "      <td>0.958171</td>\n",
       "      <td>0.028219</td>\n",
       "      <td>0.007347</td>\n",
       "      <td>0.006264</td>\n",
       "      <td>L</td>\n",
       "      <td>size and weight of ball</td>\n",
       "    </tr>\n",
       "    <tr>\n",
       "      <th>4</th>\n",
       "      <td>0.963500</td>\n",
       "      <td>0.021808</td>\n",
       "      <td>0.007961</td>\n",
       "      <td>0.006731</td>\n",
       "      <td>L</td>\n",
       "      <td>not releasing the ball at the top of the ramp</td>\n",
       "    </tr>\n",
       "    <tr>\n",
       "      <th>...</th>\n",
       "      <td>...</td>\n",
       "      <td>...</td>\n",
       "      <td>...</td>\n",
       "      <td>...</td>\n",
       "      <td>...</td>\n",
       "      <td>...</td>\n",
       "    </tr>\n",
       "    <tr>\n",
       "      <th>429</th>\n",
       "      <td>0.004992</td>\n",
       "      <td>0.002298</td>\n",
       "      <td>0.991490</td>\n",
       "      <td>0.001220</td>\n",
       "      <td>P</td>\n",
       "      <td>The randomly distributed motions of the water molecules on the slide.</td>\n",
       "    </tr>\n",
       "    <tr>\n",
       "      <th>430</th>\n",
       "      <td>0.579686</td>\n",
       "      <td>0.371316</td>\n",
       "      <td>0.015243</td>\n",
       "      <td>0.033756</td>\n",
       "      <td>O</td>\n",
       "      <td>start off</td>\n",
       "    </tr>\n",
       "    <tr>\n",
       "      <th>431</th>\n",
       "      <td>0.001920</td>\n",
       "      <td>0.001165</td>\n",
       "      <td>0.995748</td>\n",
       "      <td>0.001167</td>\n",
       "      <td>L</td>\n",
       "      <td>Earth's magnetic field bending electrons</td>\n",
       "    </tr>\n",
       "    <tr>\n",
       "      <th>432</th>\n",
       "      <td>0.910473</td>\n",
       "      <td>0.076568</td>\n",
       "      <td>0.006087</td>\n",
       "      <td>0.006871</td>\n",
       "      <td>L</td>\n",
       "      <td>Instrumental error</td>\n",
       "    </tr>\n",
       "    <tr>\n",
       "      <th>433</th>\n",
       "      <td>0.959501</td>\n",
       "      <td>0.029913</td>\n",
       "      <td>0.004916</td>\n",
       "      <td>0.005669</td>\n",
       "      <td>L</td>\n",
       "      <td>Because the ball is on the slope, it receives friction and force.</td>\n",
       "    </tr>\n",
       "  </tbody>\n",
       "</table>\n",
       "<p>434 rows × 6 columns</p>\n",
       "</div>"
      ],
      "text/plain": [
       "      probs_L   probs_O   probs_P   probs_S gt_label  \\\n",
       "0    0.960235  0.022018  0.010005  0.007742        L   \n",
       "1    0.960460  0.028065  0.006191  0.005283        L   \n",
       "2    0.004421  0.002867  0.991475  0.001236        P   \n",
       "3    0.958171  0.028219  0.007347  0.006264        L   \n",
       "4    0.963500  0.021808  0.007961  0.006731        L   \n",
       "..        ...       ...       ...       ...      ...   \n",
       "429  0.004992  0.002298  0.991490  0.001220        P   \n",
       "430  0.579686  0.371316  0.015243  0.033756        O   \n",
       "431  0.001920  0.001165  0.995748  0.001167        L   \n",
       "432  0.910473  0.076568  0.006087  0.006871        L   \n",
       "433  0.959501  0.029913  0.004916  0.005669        L   \n",
       "\n",
       "                                                                      text  \n",
       "0                                        Human error in using a meterstick  \n",
       "1                                                 angle of particle source  \n",
       "2                                 The distance from the slit to the screen  \n",
       "3                                                  size and weight of ball  \n",
       "4                            not releasing the ball at the top of the ramp  \n",
       "..                                                                     ...  \n",
       "429  The randomly distributed motions of the water molecules on the slide.  \n",
       "430                                                              start off  \n",
       "431                               Earth's magnetic field bending electrons  \n",
       "432                                                     Instrumental error  \n",
       "433      Because the ball is on the slope, it receives friction and force.  \n",
       "\n",
       "[434 rows x 6 columns]"
      ]
     },
     "execution_count": 71,
     "metadata": {},
     "output_type": "execute_result"
    }
   ],
   "source": [
    "df"
   ]
  },
  {
   "cell_type": "code",
   "execution_count": 41,
   "id": "34f91b0a-93f6-4a3f-a561-49130f2ac5a3",
   "metadata": {},
   "outputs": [
    {
     "data": {
      "text/plain": [
       "0      0.960235\n",
       "1      0.960460\n",
       "2      0.004421\n",
       "3      0.958171\n",
       "4      0.963500\n",
       "         ...   \n",
       "429    0.004992\n",
       "430    0.579686\n",
       "431    0.001920\n",
       "432    0.910473\n",
       "433    0.959501\n",
       "Name: probs_L, Length: 434, dtype: float32"
      ]
     },
     "execution_count": 41,
     "metadata": {},
     "output_type": "execute_result"
    }
   ],
   "source": [
    "df[\"probs_L\"]"
   ]
  },
  {
   "cell_type": "code",
   "execution_count": 42,
   "id": "1bc28f9c-a3de-4551-9c6d-b879147d5d41",
   "metadata": {},
   "outputs": [
    {
     "data": {
      "text/plain": [
       "(array([ 47.,  20.,  11.,  11.,   7.,   5.,   2.,   1.,   5.,   2.,   4.,\n",
       "          4.,   1.,   6.,   2.,   5.,  11.,  12.,  21., 257.]),\n",
       " array([6.50385336e-04, 4.89658974e-02, 9.72814113e-02, 1.45596936e-01,\n",
       "        1.93912446e-01, 2.42227957e-01, 2.90543467e-01, 3.38858962e-01,\n",
       "        3.87174487e-01, 4.35490012e-01, 4.83805507e-01, 5.32121062e-01,\n",
       "        5.80436587e-01, 6.28752112e-01, 6.77067578e-01, 7.25383103e-01,\n",
       "        7.73698628e-01, 8.22014153e-01, 8.70329678e-01, 9.18645144e-01,\n",
       "        9.66960669e-01]),\n",
       " <BarContainer object of 20 artists>)"
      ]
     },
     "execution_count": 42,
     "metadata": {},
     "output_type": "execute_result"
    },
    {
     "data": {
      "image/png": "[encoded data removed]",
      "text/plain": [
       "<Figure size 640x480 with 1 Axes>"
      ]
     },
     "metadata": {},
     "output_type": "display_data"
    }
   ],
   "source": [
    "fig, axs = plt.subplots(1, 1, sharey=True, tight_layout=True)\n",
    "axs.hist(df[\"probs_L\"], bins = 20)"
   ]
  },
  {
   "cell_type": "code",
   "execution_count": 43,
   "id": "d2bd8271-dded-460d-875a-04ba65d19d12",
   "metadata": {},
   "outputs": [
    {
     "data": {
      "image/png": "[encoded data removed]",
      "text/plain": [
       "<Figure size 300x300 with 1 Axes>"
      ]
     },
     "metadata": {},
     "output_type": "display_data"
    }
   ],
   "source": [
    "binned_cal_curve = cal.generate_calibration_curve_binned(df, num_bin = 10, code = \"L\", other_codes = [\"O\",\"P\",\"S\"])\n",
    "binned_cal_curve.plot(show_diagonal=True)"
   ]
  },
  {
   "cell_type": "code",
   "execution_count": 44,
   "id": "a652964b-0e63-4e0c-b7bc-24782280e30b",
   "metadata": {},
   "outputs": [],
   "source": [
    "df = pd.DataFrame(data = {\"probs_L\": probs[:,0], \"probs_O\": probs[:,1], \"probs_P\": probs[:,2], \"probs_S\": probs[:,3], \"gt_label\":list(pd.Series(all_labels.cpu().numpy()).map(target_to_class)), \"text\":list(base_dataset.text.values)})"
   ]
  },
  {
   "cell_type": "code",
   "execution_count": 102,
   "id": "bd462f68-a04c-4929-9656-7e2db6c10b11",
   "metadata": {},
   "outputs": [
    {
     "data": {
      "image/png": "[encoded data removed]",
      "text/plain": [
       "<Figure size 300x300 with 1 Axes>"
      ]
     },
     "metadata": {},
     "output_type": "display_data"
    }
   ],
   "source": [
    "platt_cal_curve = cal.generate_calibration_curve_platt(df, code = \"L\", other_codes = [\"O\",\"P\",\"S\"])\n",
    "platt_cal_curve.plot(show_diagonal=True, error_score = \"raise\")"
   ]
  },
  {
   "cell_type": "code",
   "execution_count": 46,
   "id": "3c266b64-53a3-475d-8ec5-6c0a5e0bc83b",
   "metadata": {},
   "outputs": [],
   "source": [
    "# extrapolation phase: run probabilistic estimator"
   ]
  },
  {
   "cell_type": "code",
   "execution_count": 47,
   "id": "d965590c-8b25-4b95-8d74-14d9e6b0d986",
   "metadata": {},
   "outputs": [],
   "source": [
    "model.eval()\n",
    "model=model.to(device)\n",
    "all_logits = []\n",
    "all_labels = []\n",
    "# For each batch in our test set...\n",
    "for sents, masks, labels in target_dataloader:\n",
    "    sents, masks = sents.to(device), masks.to(device)\n",
    "    # Compute logits\n",
    "    with torch.no_grad():\n",
    "        logits = model(sents, masks)\n",
    "        all_logits.append(logits)\n",
    "        all_labels.append(labels)\n",
    "# Concatenate logits from each batch\n",
    "all_logits = torch.cat(all_logits, dim=0)\n",
    "all_labels = torch.cat(all_labels, dim = 0)\n",
    "# Apply softmax to calculate probabilities\n",
    "probs = F.softmax(all_logits, dim=1).cpu().numpy()\n",
    "preds = torch.argmax(all_logits, dim=1).flatten()\n"
   ]
  },
  {
   "cell_type": "code",
   "execution_count": 48,
   "id": "318cbd88-fb0c-4047-b2f2-a7b8651d7a2a",
   "metadata": {},
   "outputs": [],
   "source": [
    "df = pd.DataFrame(data = {\"probs_L\": probs[:,0], \"probs_O\": probs[:,1], \"probs_P\": probs[:,2], \"probs_S\": probs[:,3], \"gt_label\":list(pd.Series(all_labels.cpu().numpy()).map(target_to_class)), \"text\":list(target_dataset.text.values)})"
   ]
  },
  {
   "cell_type": "markdown",
   "id": "9a299614-d4fd-41f2-9c8b-59336ac7cac6",
   "metadata": {},
   "source": [
    "## Calibration curves for L"
   ]
  },
  {
   "cell_type": "code",
   "execution_count": 49,
   "id": "41bc82cd-00f2-48db-bd61-d9adc53104d0",
   "metadata": {},
   "outputs": [
    {
     "data": {
      "text/plain": [
       "(array([ 40.,  16.,  15.,  13.,   9.,   3.,   1.,   3.,   1.,   2.,   2.,\n",
       "          2.,   2.,   4.,   5.,   6.,   7.,  12.,  30., 263.]),\n",
       " array([6.73506351e-04, 4.89650071e-02, 9.72565040e-02, 1.45548001e-01,\n",
       "        1.93839505e-01, 2.42131010e-01, 2.90422499e-01, 3.38714004e-01,\n",
       "        3.87005508e-01, 4.35297012e-01, 4.83588517e-01, 5.31880021e-01,\n",
       "        5.80171525e-01, 6.28463030e-01, 6.76754534e-01, 7.25046039e-01,\n",
       "        7.73337543e-01, 8.21629047e-01, 8.69920552e-01, 9.18212056e-01,\n",
       "        9.66503561e-01]),\n",
       " <BarContainer object of 20 artists>)"
      ]
     },
     "execution_count": 49,
     "metadata": {},
     "output_type": "execute_result"
    },
    {
     "data": {
      "image/png": "[encoded data removed]",
      "text/plain": [
       "<Figure size 640x480 with 1 Axes>"
      ]
     },
     "metadata": {},
     "output_type": "display_data"
    }
   ],
   "source": [
    "fig, axs = plt.subplots(1, 1, sharey=True, tight_layout=True)\n",
    "axs.hist(df[\"probs_L\"], bins = 20)"
   ]
  },
  {
   "cell_type": "code",
   "execution_count": 50,
   "id": "190a46f2-e9fa-4ff6-a916-75e1fa3b948a",
   "metadata": {},
   "outputs": [
    {
     "data": {
      "image/png": "[encoded data removed]",
      "text/plain": [
       "<Figure size 300x300 with 1 Axes>"
      ]
     },
     "metadata": {},
     "output_type": "display_data"
    }
   ],
   "source": [
    "df = pd.DataFrame(data = {\"probs_L\": probs[:,0], \"probs_O\": probs[:,1], \"probs_P\": probs[:,2], \"probs_S\": probs[:,3], \"gt_label\":list(pd.Series(all_labels.cpu().numpy()).map(target_to_class)), \"text\":list(target_dataset.text.values)})\n",
    "binned_cal_curve = cal.generate_calibration_curve_binned(df, num_bin = 10, code = \"L\", other_codes = [\"O\",\"P\",\"S\"])\n",
    "binned_cal_curve.plot(show_diagonal=True)"
   ]
  },
  {
   "cell_type": "code",
   "execution_count": 51,
   "id": "2f5f6c75-1467-4244-8579-22cdae6aa34a",
   "metadata": {},
   "outputs": [
    {
     "data": {
      "image/png": "[encoded data removed]",
      "text/plain": [
       "<Figure size 300x300 with 1 Axes>"
      ]
     },
     "metadata": {},
     "output_type": "display_data"
    }
   ],
   "source": [
    "df = pd.DataFrame(data = {\"probs_L\": probs[:,0], \"probs_O\": probs[:,1], \"probs_P\": probs[:,2], \"probs_S\": probs[:,3], \"gt_label\":list(pd.Series(all_labels.cpu().numpy()).map(target_to_class)), \"text\":list(target_dataset.text.values)})\n",
    "platt_cal_curve = cal.generate_calibration_curve_platt(df, code = \"L\", other_codes = [\"O\",\"P\",\"S\"])\n",
    "platt_cal_curve.plot(show_diagonal=True)"
   ]
  },
  {
   "cell_type": "code",
   "execution_count": 52,
   "id": "b337b0a2-94d5-4abf-87d1-ca72a41ac12e",
   "metadata": {},
   "outputs": [
    {
     "name": "stdout",
     "output_type": "stream",
     "text": [
      "Assuming stable calibration curve -- estimated prevalence: 0.773\n"
     ]
    }
   ],
   "source": [
    "est_prevalence = cal.extrinsic_estimate(df, platt_cal_curve, code = \"L\")\n",
    "print(f'Assuming stable calibration curve -- estimated prevalence: {est_prevalence:.3f}')"
   ]
  },
  {
   "cell_type": "code",
   "execution_count": 53,
   "id": "1061933a-a777-4132-a180-12de6419267e",
   "metadata": {},
   "outputs": [
    {
     "name": "stdout",
     "output_type": "stream",
     "text": [
      "Target dataset: number of samples in each category\n",
      "L: 332\n",
      "P: 23\n",
      "S: 22\n",
      "O: 57\n"
     ]
    }
   ],
   "source": [
    "print(\"Target dataset: number of samples in each category\")\n",
    "target_labels =list(pd.Series(target_dataset.labels.numpy()).map(target_to_class))\n",
    "print(\"L: \" + str(base_labels.count(\"L\")))\n",
    "print(\"P: \" + str(base_labels.count(\"P\")))\n",
    "print(\"S: \" + str(base_labels.count(\"S\")))\n",
    "print(\"O: \" + str(base_labels.count(\"O\")))"
   ]
  },
  {
   "cell_type": "code",
   "execution_count": 54,
   "id": "3aea1b6e-b968-4552-9bcb-6b83571e3344",
   "metadata": {},
   "outputs": [
    {
     "data": {
      "text/plain": [
       "0.7557603686635944"
      ]
     },
     "execution_count": 54,
     "metadata": {},
     "output_type": "execute_result"
    }
   ],
   "source": [
    "328/(328+27+11+68)"
   ]
  },
  {
   "cell_type": "code",
   "execution_count": 55,
   "id": "a280e95e-cbb6-48f0-a2b1-81b26e135878",
   "metadata": {},
   "outputs": [
    {
     "data": {
      "text/plain": [
       "0.7637614678899083"
      ]
     },
     "execution_count": 55,
     "metadata": {},
     "output_type": "execute_result"
    }
   ],
   "source": [
    "list(preds.cpu().numpy()).count(0)/len(preds)"
   ]
  },
  {
   "cell_type": "code",
   "execution_count": 56,
   "id": "5da5a492-bbf5-4d90-8c38-060a646fa823",
   "metadata": {},
   "outputs": [],
   "source": [
    "display_data = pd.DataFrame(data = {\"preds\":list(pd.Series(preds.cpu().numpy()).map(target_to_class)), \"labels\":list(pd.Series(all_labels.cpu().numpy()).map(target_to_class)), \"text\":list(target_dataset.text.values)})"
   ]
  },
  {
   "cell_type": "code",
   "execution_count": 57,
   "id": "36efa343-378a-472b-991c-acde9cae3be7",
   "metadata": {},
   "outputs": [
    {
     "data": {
      "text/html": [
       "<div>\n",
       "<style scoped>\n",
       "    .dataframe tbody tr th:only-of-type {\n",
       "        vertical-align: middle;\n",
       "    }\n",
       "\n",
       "    .dataframe tbody tr th {\n",
       "        vertical-align: top;\n",
       "    }\n",
       "\n",
       "    .dataframe thead th {\n",
       "        text-align: right;\n",
       "    }\n",
       "</style>\n",
       "<table border=\"1\" class=\"dataframe\">\n",
       "  <thead>\n",
       "    <tr style=\"text-align: right;\">\n",
       "      <th></th>\n",
       "      <th>preds</th>\n",
       "      <th>labels</th>\n",
       "      <th>text</th>\n",
       "    </tr>\n",
       "  </thead>\n",
       "  <tbody>\n",
       "    <tr>\n",
       "      <th>20</th>\n",
       "      <td>L</td>\n",
       "      <td>L</td>\n",
       "      <td>Slipping on the ramp.</td>\n",
       "    </tr>\n",
       "    <tr>\n",
       "      <th>21</th>\n",
       "      <td>L</td>\n",
       "      <td>L</td>\n",
       "      <td>Accidentally giving the ball an initial velocity</td>\n",
       "    </tr>\n",
       "    <tr>\n",
       "      <th>22</th>\n",
       "      <td>L</td>\n",
       "      <td>L</td>\n",
       "      <td>uncertainty in initial height and direction of the particle</td>\n",
       "    </tr>\n",
       "    <tr>\n",
       "      <th>23</th>\n",
       "      <td>L</td>\n",
       "      <td>L</td>\n",
       "      <td>Differences in distribution of particles in water between students</td>\n",
       "    </tr>\n",
       "    <tr>\n",
       "      <th>24</th>\n",
       "      <td>S</td>\n",
       "      <td>S</td>\n",
       "      <td>Looks like a decent Gaussian distribution due to random uncertainties in the measurements</td>\n",
       "    </tr>\n",
       "    <tr>\n",
       "      <th>25</th>\n",
       "      <td>L</td>\n",
       "      <td>O</td>\n",
       "      <td>Uncerainty</td>\n",
       "    </tr>\n",
       "    <tr>\n",
       "      <th>26</th>\n",
       "      <td>L</td>\n",
       "      <td>L</td>\n",
       "      <td>the initial velocity</td>\n",
       "    </tr>\n",
       "    <tr>\n",
       "      <th>27</th>\n",
       "      <td>L</td>\n",
       "      <td>L</td>\n",
       "      <td>a ruler is not a suitably-precise instrument for this task</td>\n",
       "    </tr>\n",
       "    <tr>\n",
       "      <th>28</th>\n",
       "      <td>L</td>\n",
       "      <td>L</td>\n",
       "      <td>Differences in drag</td>\n",
       "    </tr>\n",
       "    <tr>\n",
       "      <th>29</th>\n",
       "      <td>L</td>\n",
       "      <td>O</td>\n",
       "      <td>Error in measurement of time and distance</td>\n",
       "    </tr>\n",
       "  </tbody>\n",
       "</table>\n",
       "</div>"
      ],
      "text/plain": [
       "   preds labels  \\\n",
       "20     L      L   \n",
       "21     L      L   \n",
       "22     L      L   \n",
       "23     L      L   \n",
       "24     S      S   \n",
       "25     L      O   \n",
       "26     L      L   \n",
       "27     L      L   \n",
       "28     L      L   \n",
       "29     L      O   \n",
       "\n",
       "                                                                                         text  \n",
       "20                                                                      Slipping on the ramp.  \n",
       "21                                           Accidentally giving the ball an initial velocity  \n",
       "22                                uncertainty in initial height and direction of the particle  \n",
       "23                         Differences in distribution of particles in water between students  \n",
       "24  Looks like a decent Gaussian distribution due to random uncertainties in the measurements  \n",
       "25                                                                                 Uncerainty  \n",
       "26                                                                       the initial velocity  \n",
       "27                                 a ruler is not a suitably-precise instrument for this task  \n",
       "28                                                                        Differences in drag  \n",
       "29                                                  Error in measurement of time and distance  "
      ]
     },
     "execution_count": 57,
     "metadata": {},
     "output_type": "execute_result"
    }
   ],
   "source": [
    "pd.set_option('display.max_colwidth', None)\n",
    "display_data[20:30]"
   ]
  },
  {
   "cell_type": "markdown",
   "id": "cdf9998a-2f21-4b9f-a6b2-d844703de7fd",
   "metadata": {},
   "source": [
    "## Calibration curves for P"
   ]
  },
  {
   "cell_type": "code",
   "execution_count": 58,
   "id": "0fef4a89-dbe3-43e1-8954-3c7d3a2833bb",
   "metadata": {},
   "outputs": [
    {
     "data": {
      "text/plain": [
       "(array([407.,   2.,   1.,   0.,   0.,   0.,   1.,   0.,   0.,   0.,   0.,\n",
       "          0.,   0.,   1.,   2.,   0.,   1.,   2.,   0.,  19.]),\n",
       " array([4.27562743e-04, 5.02071753e-02, 9.99867916e-02, 1.49766400e-01,\n",
       "        1.99546009e-01, 2.49325618e-01, 2.99105257e-01, 3.48884851e-01,\n",
       "        3.98664474e-01, 4.48444098e-01, 4.98223692e-01, 5.48003256e-01,\n",
       "        5.97782910e-01, 6.47562504e-01, 6.97342098e-01, 7.47121751e-01,\n",
       "        7.96901345e-01, 8.46680939e-01, 8.96460593e-01, 9.46240187e-01,\n",
       "        9.96019781e-01]),\n",
       " <BarContainer object of 20 artists>)"
      ]
     },
     "execution_count": 58,
     "metadata": {},
     "output_type": "execute_result"
    },
    {
     "data": {
      "image/png": "[encoded data removed]",
      "text/plain": [
       "<Figure size 640x480 with 1 Axes>"
      ]
     },
     "metadata": {},
     "output_type": "display_data"
    }
   ],
   "source": [
    "fig, axs = plt.subplots(1, 1, sharey=True, tight_layout=True)\n",
    "axs.hist(df[\"probs_P\"], bins = 20)"
   ]
  },
  {
   "cell_type": "code",
   "execution_count": 59,
   "id": "b4607f11-7f44-40b4-9775-3c92db8309bd",
   "metadata": {},
   "outputs": [
    {
     "data": {
      "image/png": "[encoded data removed]",
      "text/plain": [
       "<Figure size 300x300 with 1 Axes>"
      ]
     },
     "metadata": {},
     "output_type": "display_data"
    }
   ],
   "source": [
    "df = pd.DataFrame(data = {\"probs_L\": probs[:,0], \"probs_O\": probs[:,1], \"probs_P\": probs[:,2], \"probs_S\": probs[:,3], \"gt_label\":list(pd.Series(all_labels.cpu().numpy()).map(target_to_class)), \"text\":list(target_dataset.text.values)})\n",
    "binned_cal_curve = cal.generate_calibration_curve_binned(df, num_bin = 10, code = \"P\", other_codes = [\"O\",\"L\",\"S\"])\n",
    "binned_cal_curve.plot(show_diagonal=True)"
   ]
  },
  {
   "cell_type": "code",
   "execution_count": 60,
   "id": "0c14ddff-0689-4bd1-af4a-147513595813",
   "metadata": {},
   "outputs": [
    {
     "data": {
      "image/png": "[encoded data removed]",
      "text/plain": [
       "<Figure size 300x300 with 1 Axes>"
      ]
     },
     "metadata": {},
     "output_type": "display_data"
    }
   ],
   "source": [
    "df = pd.DataFrame(data = {\"probs_L\": probs[:,0], \"probs_O\": probs[:,1], \"probs_P\": probs[:,2], \"probs_S\": probs[:,3], \"gt_label\":list(pd.Series(all_labels.cpu().numpy()).map(target_to_class)), \"text\":list(target_dataset.text.values)})\n",
    "platt_cal_curve = cal.generate_calibration_curve_platt(df, code = \"P\", other_codes = [\"O\",\"L\",\"S\"])\n",
    "platt_cal_curve.plot(show_diagonal=True)"
   ]
  },
  {
   "cell_type": "code",
   "execution_count": 61,
   "id": "81625212-9278-461c-957a-34b508c86bad",
   "metadata": {},
   "outputs": [
    {
     "name": "stdout",
     "output_type": "stream",
     "text": [
      "Assuming stable calibration curve -- estimated prevalence: 0.048\n"
     ]
    }
   ],
   "source": [
    "est_prevalence = cal.extrinsic_estimate(df, platt_cal_curve, code = \"P\")\n",
    "print(f'Assuming stable calibration curve -- estimated prevalence: {est_prevalence:.3f}')"
   ]
  },
  {
   "cell_type": "markdown",
   "id": "3a9c075d-687d-453c-bc0b-be8297482d83",
   "metadata": {},
   "source": [
    "## Calibration curves for S"
   ]
  },
  {
   "cell_type": "code",
   "execution_count": 62,
   "id": "560d1e14-e9ff-4b10-86a5-2e19fd699246",
   "metadata": {},
   "outputs": [
    {
     "data": {
      "text/plain": [
       "(array([412.,   2.,   2.,   0.,   0.,   0.,   0.,   1.,   0.,   0.,   1.,\n",
       "          0.,   1.,   0.,   0.,   0.,   0.,   0.,   1.,  16.]),\n",
       " array([0.00103713, 0.05088137, 0.10072561, 0.15056986, 0.20041409,\n",
       "        0.25025833, 0.30010256, 0.3499468 , 0.39979103, 0.44963527,\n",
       "        0.4994795 , 0.54932374, 0.599168  , 0.64901221, 0.69885647,\n",
       "        0.74870068, 0.79854494, 0.84838921, 0.89823341, 0.94807768,\n",
       "        0.99792188]),\n",
       " <BarContainer object of 20 artists>)"
      ]
     },
     "execution_count": 62,
     "metadata": {},
     "output_type": "execute_result"
    },
    {
     "data": {
      "image/png": "[encoded data removed]",
      "text/plain": [
       "<Figure size 640x480 with 1 Axes>"
      ]
     },
     "metadata": {},
     "output_type": "display_data"
    }
   ],
   "source": [
    "fig, axs = plt.subplots(1, 1, sharey=True, tight_layout=True)\n",
    "axs.hist(df[\"probs_S\"], bins = 20)"
   ]
  },
  {
   "cell_type": "code",
   "execution_count": 63,
   "id": "7b6a7d9e-4dee-4b09-9b9b-67902faf75fd",
   "metadata": {},
   "outputs": [
    {
     "data": {
      "image/png": "[encoded data removed]",
      "text/plain": [
       "<Figure size 300x300 with 1 Axes>"
      ]
     },
     "metadata": {},
     "output_type": "display_data"
    }
   ],
   "source": [
    "df = pd.DataFrame(data = {\"probs_L\": probs[:,0], \"probs_O\": probs[:,1], \"probs_P\": probs[:,2], \"probs_S\": probs[:,3], \"gt_label\":list(pd.Series(all_labels.cpu().numpy()).map(target_to_class)), \"text\":list(target_dataset.text.values)})\n",
    "binned_cal_curve = cal.generate_calibration_curve_binned(df, num_bin = 10, code = \"S\", other_codes = [\"O\",\"P\",\"L\"])\n",
    "binned_cal_curve.plot(show_diagonal=True)"
   ]
  },
  {
   "cell_type": "code",
   "execution_count": 64,
   "id": "cb154e6b-0342-48b6-81f9-7d8c35d5e8c5",
   "metadata": {},
   "outputs": [
    {
     "data": {
      "image/png": "[encoded data removed]",
      "text/plain": [
       "<Figure size 300x300 with 1 Axes>"
      ]
     },
     "metadata": {},
     "output_type": "display_data"
    }
   ],
   "source": [
    "df = pd.DataFrame(data = {\"probs_L\": probs[:,0], \"probs_O\": probs[:,1], \"probs_P\": probs[:,2], \"probs_S\": probs[:,3], \"gt_label\":list(pd.Series(all_labels.cpu().numpy()).map(target_to_class)), \"text\":list(target_dataset.text.values)})\n",
    "platt_cal_curve = cal.generate_calibration_curve_platt(df, code = \"S\", other_codes = [\"O\",\"P\",\"L\"])\n",
    "platt_cal_curve.plot(show_diagonal=True)"
   ]
  },
  {
   "cell_type": "code",
   "execution_count": 65,
   "id": "96c0656f-3972-4c5c-aed4-2328fcf84a7f",
   "metadata": {},
   "outputs": [
    {
     "name": "stdout",
     "output_type": "stream",
     "text": [
      "Assuming stable calibration curve -- estimated prevalence: 0.030\n"
     ]
    }
   ],
   "source": [
    "est_prevalence = cal.extrinsic_estimate(df, platt_cal_curve, code = \"S\")\n",
    "print(f'Assuming stable calibration curve -- estimated prevalence: {est_prevalence:.3f}')"
   ]
  },
  {
   "cell_type": "code",
   "execution_count": null,
   "id": "4ea12914-b61f-4422-8bfb-78834d985f7c",
   "metadata": {},
   "outputs": [],
   "source": []
  }
 ],
 "metadata": {
  "kernelspec": {
   "display_name": "Python 3 (ipykernel)",
   "language": "python",
   "name": "python3"
  },
  "language_info": {
   "codemirror_mode": {
    "name": "ipython",
    "version": 3
   },
   "file_extension": ".py",
   "mimetype": "text/x-python",
   "name": "python",
   "nbconvert_exporter": "python",
   "pygments_lexer": "ipython3",
   "version": "3.12.9"
  }
 },
 "nbformat": 4,
 "nbformat_minor": 5
}
