{
 "cells": [
  {
   "cell_type": "code",
   "execution_count": 2,
   "id": "7567bc2b-655a-49fb-8ded-5badaae53b62",
   "metadata": {},
   "outputs": [],
   "source": [
    "import os\n",
    "import pandas as pd"
   ]
  },
  {
   "cell_type": "markdown",
   "id": "e7beb7f9-0707-42d0-82ab-ff9ab60b1de2",
   "metadata": {},
   "source": [
    "### Documentation\n",
    "\n"
   ]
  },
  {
   "cell_type": "code",
   "execution_count": 3,
   "id": "02e893bd-fac9-4581-844a-4fa625cda480",
   "metadata": {},
   "outputs": [],
   "source": [
    "cwd = os.getcwd()\n",
    "data_folder = cwd + '/Data_External/'"
   ]
  },
  {
   "cell_type": "code",
   "execution_count": 4,
   "id": "0862504c-0541-4d86-b917-748d3c8ca439",
   "metadata": {},
   "outputs": [
    {
     "ename": "NameError",
     "evalue": "name 'pd' is not defined",
     "output_type": "error",
     "traceback": [
      "\u001b[0;31m---------------------------------------------------------------------------\u001b[0m",
      "\u001b[0;31mNameError\u001b[0m                                 Traceback (most recent call last)",
      "Cell \u001b[0;32mIn[4], line 1\u001b[0m\n\u001b[0;32m----> 1\u001b[0m data_sources \u001b[38;5;241m=\u001b[39m \u001b[43mpd\u001b[49m\u001b[38;5;241m.\u001b[39mread_excel(data_folder \u001b[38;5;241m+\u001b[39m \u001b[38;5;124m'\u001b[39m\u001b[38;5;124msources.xlsx\u001b[39m\u001b[38;5;124m'\u001b[39m)\n\u001b[1;32m      2\u001b[0m data_more_better \u001b[38;5;241m=\u001b[39m pd\u001b[38;5;241m.\u001b[39mread_excel(data_folder \u001b[38;5;241m+\u001b[39m \u001b[38;5;124m'\u001b[39m\u001b[38;5;124mmore_better.xlsx\u001b[39m\u001b[38;5;124m'\u001b[39m)\n\u001b[1;32m      3\u001b[0m data_generic \u001b[38;5;241m=\u001b[39m pd\u001b[38;5;241m.\u001b[39mread_excel(data_folder \u001b[38;5;241m+\u001b[39m \u001b[38;5;124m'\u001b[39m\u001b[38;5;124mgeneric.xlsx\u001b[39m\u001b[38;5;124m'\u001b[39m)\n",
      "\u001b[0;31mNameError\u001b[0m: name 'pd' is not defined"
     ]
    }
   ],
   "source": [
    "data_sources = pd.read_excel(data_folder + 'sources.xlsx')\n",
    "data_more_better = pd.read_excel(data_folder + 'more_better.xlsx')\n",
    "data_generic = pd.read_excel(data_folder + 'generic.xlsx')"
   ]
  },
  {
   "cell_type": "code",
   "execution_count": null,
   "id": "78524055-7620-40ad-b5e8-b8e4ce05d59a",
   "metadata": {},
   "outputs": [],
   "source": [
    "data_sources[\"P\"] = (data_sources[\"code\"] == \"P\").astype(int)\n",
    "data_sources[\"L\"] = (data_sources[\"code\"] == \"L\").astype(int)\n",
    "data_sources[\"S\"] = (data_sources[\"code\"] == \"S\").astype(int)\n",
    "data_sources[\"O\"] = (data_sources[\"code\"] == \"O\").astype(int)\n",
    "\n",
    "data_more = data_more_better[[\"ResponseId\",\"Experiment\",\"P_more\",\"L_more\",\"S_more\",\"More_response\",\"More_explanation\"]]\n",
    "data_better = data_more_better[[\"ResponseId\",\"Experiment\",\"P_better\",\"L_better\",\"S_better\",\"Better_response\",\"Better_explanation\"]]\n",
    "\n",
    "data_more.loc[:,\"P\"] = data_more[\"P_more\"]\n",
    "data_more.loc[:,\"L\"] = data_more[\"L_more\"]\n",
    "data_more.loc[:,\"S\"] = data_more[\"S_more\"]\n",
    "data_more.loc[:,\"O\"] = ((data_more[\"P\"] == 0) & (data_more[\"L\"] == 0) & (data_more[\"S\"] == 0)).astype(int)\n",
    "\n",
    "data_better.loc[:,\"P\"] = data_better[\"P_better\"]\n",
    "data_better.loc[:,\"L\"] = data_better[\"L_better\"]\n",
    "data_better.loc[:,\"S\"] = data_better[\"S_better\"]\n",
    "data_better.loc[:,\"O\"] = ((data_better[\"P\"] == 0) & (data_more[\"L\"] == 0) & (data_more[\"S\"] == 0)).astype(int)\n",
    "\n",
    "data_classical = data_generic[[\"DataSource\",\"ResponseId\",\"Response_Generic_Classical\",\"CQ\",\"code\",\"n\"]]\n",
    "data_quantum = data_generic[[\"DataSource\",\"ResponseId\",\"Response_Generic_Quantum\",\"CQ\",\"code\",\"n\"]]"
   ]
  },
  {
   "cell_type": "code",
   "execution_count": null,
   "id": "ac7f56a7-a29a-4121-a59e-f0801c4c2289",
   "metadata": {},
   "outputs": [],
   "source": []
  },
  {
   "cell_type": "code",
   "execution_count": null,
   "id": "2723fd82-780f-4a94-a570-237f441db7b9",
   "metadata": {},
   "outputs": [],
   "source": []
  },
  {
   "cell_type": "code",
   "execution_count": null,
   "id": "65dd6f13-99a0-46ab-8d23-8404a8b4e32a",
   "metadata": {},
   "outputs": [],
   "source": [
    "#what about this /n situation? "
   ]
  },
  {
   "cell_type": "markdown",
   "id": "7a8fd11e-a7cc-43bd-afe9-209a9a05097c",
   "metadata": {},
   "source": [
    "Save data in prepared data folder"
   ]
  }
 ],
 "metadata": {
  "kernelspec": {
   "display_name": "Python 3 (ipykernel)",
   "language": "python",
   "name": "python3"
  },
  "language_info": {
   "codemirror_mode": {
    "name": "ipython",
    "version": 3
   },
   "file_extension": ".py",
   "mimetype": "text/x-python",
   "name": "python",
   "nbconvert_exporter": "python",
   "pygments_lexer": "ipython3",
   "version": "3.12.9"
  }
 },
 "nbformat": 4,
 "nbformat_minor": 5
}
